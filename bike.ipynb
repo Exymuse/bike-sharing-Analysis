{
 "cells": [
  {
   "cell_type": "markdown",
   "metadata": {},
   "source": [
    "# Proyek Analisis Data: Bike Sharing Dataset\n",
    "- **Nama:**  Cakra Satriyadana\n",
    "- **Email:**  cakrasatriyadana@gmail.com\n",
    "- **ID Dicoding:** cakra_s\n"
   ]
  },
  {
   "cell_type": "markdown",
   "metadata": {},
   "source": [
    "**Menentukan Pertanyaan Bisnis**\n",
    "1. Bagaimana pengaruh Cuaca terhadap Aktivitas Penyewaan Sepeda ?\n",
    "2. Bagaimana pola aktivitas penyewaan sepeda berubah dalam satu hari\n",
    "3. Seberapa besar perbedaan penggunaan sepeda antara hari libur dan hari kerja\n"
   ]
  },
  {
   "cell_type": "markdown",
   "metadata": {},
   "source": [
    "## Import Semua Packages/Library yang Digunakan\n"
   ]
  },
  {
   "cell_type": "code",
   "execution_count": 1,
   "metadata": {},
   "outputs": [],
   "source": [
    "import pandas as pd\n",
    "import matplotlib.pyplot as plt\n",
    "import numpy as np\n",
    "import seaborn as sns\n"
   ]
  },
  {
   "cell_type": "markdown",
   "metadata": {},
   "source": [
    "- Pada tahap ini kita memuat semua library yang dibutuhkan untuk mendukung analisis "
   ]
  },
  {
   "cell_type": "markdown",
   "metadata": {},
   "source": [
    "## Data Wrangling\n",
    "## Gathering Data"
   ]
  },
  {
   "cell_type": "code",
   "execution_count": 2,
   "metadata": {},
   "outputs": [],
   "source": [
    "day_path = './data/day.csv'\n",
    "hour_path = './data/hour.csv'\n",
    "\n",
    "\n",
    "day = pd.read_csv(day_path)\n",
    "hour = pd.read_csv(hour_path)"
   ]
  },
  {
   "cell_type": "markdown",
   "metadata": {},
   "source": [
    "\t- instant: record index\n",
    "\t- dteday : date\n",
    "\t- season : season (1:springer, 2:summer, 3:fall, 4:winter)\n",
    "\t- yr : year (0: 2011, 1:2012)\n",
    "\t- mnth : month ( 1 to 12)\n",
    "\t- hr : hour (0 to 23)\n",
    "\t- holiday : weather day is holiday or not (extracted from http://dchr.dc.gov/page/holiday-schedule)\n",
    "\t- weekday : day of the week\n",
    "\t- workingday : if day is neither weekend nor holiday is 1, otherwise is 0.\n",
    "\t+ weathersit : \n",
    "\t\t- 1: Clear, Few clouds, Partly cloudy, Partly cloudy\n",
    "\t\t- 2: Mist + Cloudy, Mist + Broken clouds, Mist + Few clouds, Mist\n",
    "\t\t- 3: Light Snow, Light Rain + Thunderstorm + Scattered clouds, Light Rain + Scattered clouds\n",
    "\t\t- 4: Heavy Rain + Ice Pallets + Thunderstorm + Mist, Snow + Fog\n",
    "\t- temp : Normalized temperature in Celsius. The values are divided to 41 (max)\n",
    "\t- atemp: Normalized feeling temperature in Celsius. The values are divided to 50 (max)\n",
    "\t- hum: Normalized humidity. The values are divided to 100 (max)\n",
    "\t- windspeed: Normalized wind speed. The values are divided to 67 (max)\n",
    "\t- casual: count of casual users\n",
    "\t- registered: count of registered users\n",
    "\t- cnt: count of total rental bikes including both casual and registered"
   ]
  },
  {
   "cell_type": "code",
   "execution_count": 3,
   "metadata": {},
   "outputs": [
    {
     "data": {
      "text/html": [
       "<div>\n",
       "<style scoped>\n",
       "    .dataframe tbody tr th:only-of-type {\n",
       "        vertical-align: middle;\n",
       "    }\n",
       "\n",
       "    .dataframe tbody tr th {\n",
       "        vertical-align: top;\n",
       "    }\n",
       "\n",
       "    .dataframe thead th {\n",
       "        text-align: right;\n",
       "    }\n",
       "</style>\n",
       "<table border=\"1\" class=\"dataframe\">\n",
       "  <thead>\n",
       "    <tr style=\"text-align: right;\">\n",
       "      <th></th>\n",
       "      <th>instant</th>\n",
       "      <th>dteday</th>\n",
       "      <th>season</th>\n",
       "      <th>yr</th>\n",
       "      <th>mnth</th>\n",
       "      <th>holiday</th>\n",
       "      <th>weekday</th>\n",
       "      <th>workingday</th>\n",
       "      <th>weathersit</th>\n",
       "      <th>temp</th>\n",
       "      <th>atemp</th>\n",
       "      <th>hum</th>\n",
       "      <th>windspeed</th>\n",
       "      <th>casual</th>\n",
       "      <th>registered</th>\n",
       "      <th>cnt</th>\n",
       "    </tr>\n",
       "  </thead>\n",
       "  <tbody>\n",
       "    <tr>\n",
       "      <th>442</th>\n",
       "      <td>443</td>\n",
       "      <td>2012-03-18</td>\n",
       "      <td>1</td>\n",
       "      <td>1</td>\n",
       "      <td>3</td>\n",
       "      <td>0</td>\n",
       "      <td>0</td>\n",
       "      <td>0</td>\n",
       "      <td>2</td>\n",
       "      <td>0.472500</td>\n",
       "      <td>0.464000</td>\n",
       "      <td>0.810000</td>\n",
       "      <td>0.126883</td>\n",
       "      <td>2207</td>\n",
       "      <td>3685</td>\n",
       "      <td>5892</td>\n",
       "    </tr>\n",
       "    <tr>\n",
       "      <th>597</th>\n",
       "      <td>598</td>\n",
       "      <td>2012-08-20</td>\n",
       "      <td>3</td>\n",
       "      <td>1</td>\n",
       "      <td>8</td>\n",
       "      <td>0</td>\n",
       "      <td>1</td>\n",
       "      <td>1</td>\n",
       "      <td>2</td>\n",
       "      <td>0.635833</td>\n",
       "      <td>0.595967</td>\n",
       "      <td>0.734167</td>\n",
       "      <td>0.129979</td>\n",
       "      <td>1026</td>\n",
       "      <td>5504</td>\n",
       "      <td>6530</td>\n",
       "    </tr>\n",
       "    <tr>\n",
       "      <th>407</th>\n",
       "      <td>408</td>\n",
       "      <td>2012-02-12</td>\n",
       "      <td>1</td>\n",
       "      <td>1</td>\n",
       "      <td>2</td>\n",
       "      <td>0</td>\n",
       "      <td>0</td>\n",
       "      <td>0</td>\n",
       "      <td>1</td>\n",
       "      <td>0.127500</td>\n",
       "      <td>0.101658</td>\n",
       "      <td>0.464583</td>\n",
       "      <td>0.409212</td>\n",
       "      <td>73</td>\n",
       "      <td>1456</td>\n",
       "      <td>1529</td>\n",
       "    </tr>\n",
       "    <tr>\n",
       "      <th>313</th>\n",
       "      <td>314</td>\n",
       "      <td>2011-11-10</td>\n",
       "      <td>4</td>\n",
       "      <td>0</td>\n",
       "      <td>11</td>\n",
       "      <td>0</td>\n",
       "      <td>4</td>\n",
       "      <td>1</td>\n",
       "      <td>2</td>\n",
       "      <td>0.380000</td>\n",
       "      <td>0.373721</td>\n",
       "      <td>0.813333</td>\n",
       "      <td>0.189067</td>\n",
       "      <td>190</td>\n",
       "      <td>2743</td>\n",
       "      <td>2933</td>\n",
       "    </tr>\n",
       "    <tr>\n",
       "      <th>247</th>\n",
       "      <td>248</td>\n",
       "      <td>2011-09-05</td>\n",
       "      <td>3</td>\n",
       "      <td>0</td>\n",
       "      <td>9</td>\n",
       "      <td>1</td>\n",
       "      <td>1</td>\n",
       "      <td>0</td>\n",
       "      <td>2</td>\n",
       "      <td>0.673333</td>\n",
       "      <td>0.625646</td>\n",
       "      <td>0.790417</td>\n",
       "      <td>0.212696</td>\n",
       "      <td>1236</td>\n",
       "      <td>2115</td>\n",
       "      <td>3351</td>\n",
       "    </tr>\n",
       "    <tr>\n",
       "      <th>10</th>\n",
       "      <td>11</td>\n",
       "      <td>2011-01-11</td>\n",
       "      <td>1</td>\n",
       "      <td>0</td>\n",
       "      <td>1</td>\n",
       "      <td>0</td>\n",
       "      <td>2</td>\n",
       "      <td>1</td>\n",
       "      <td>2</td>\n",
       "      <td>0.169091</td>\n",
       "      <td>0.191464</td>\n",
       "      <td>0.686364</td>\n",
       "      <td>0.122132</td>\n",
       "      <td>43</td>\n",
       "      <td>1220</td>\n",
       "      <td>1263</td>\n",
       "    </tr>\n",
       "    <tr>\n",
       "      <th>170</th>\n",
       "      <td>171</td>\n",
       "      <td>2011-06-20</td>\n",
       "      <td>2</td>\n",
       "      <td>0</td>\n",
       "      <td>6</td>\n",
       "      <td>0</td>\n",
       "      <td>1</td>\n",
       "      <td>1</td>\n",
       "      <td>2</td>\n",
       "      <td>0.635000</td>\n",
       "      <td>0.595346</td>\n",
       "      <td>0.746250</td>\n",
       "      <td>0.155475</td>\n",
       "      <td>699</td>\n",
       "      <td>3311</td>\n",
       "      <td>4010</td>\n",
       "    </tr>\n",
       "    <tr>\n",
       "      <th>576</th>\n",
       "      <td>577</td>\n",
       "      <td>2012-07-30</td>\n",
       "      <td>3</td>\n",
       "      <td>1</td>\n",
       "      <td>7</td>\n",
       "      <td>0</td>\n",
       "      <td>1</td>\n",
       "      <td>1</td>\n",
       "      <td>1</td>\n",
       "      <td>0.730833</td>\n",
       "      <td>0.684987</td>\n",
       "      <td>0.668750</td>\n",
       "      <td>0.153617</td>\n",
       "      <td>1040</td>\n",
       "      <td>6065</td>\n",
       "      <td>7105</td>\n",
       "    </tr>\n",
       "    <tr>\n",
       "      <th>223</th>\n",
       "      <td>224</td>\n",
       "      <td>2011-08-12</td>\n",
       "      <td>3</td>\n",
       "      <td>0</td>\n",
       "      <td>8</td>\n",
       "      <td>0</td>\n",
       "      <td>5</td>\n",
       "      <td>1</td>\n",
       "      <td>1</td>\n",
       "      <td>0.708333</td>\n",
       "      <td>0.654042</td>\n",
       "      <td>0.415000</td>\n",
       "      <td>0.125621</td>\n",
       "      <td>1051</td>\n",
       "      <td>3854</td>\n",
       "      <td>4905</td>\n",
       "    </tr>\n",
       "    <tr>\n",
       "      <th>50</th>\n",
       "      <td>51</td>\n",
       "      <td>2011-02-20</td>\n",
       "      <td>1</td>\n",
       "      <td>0</td>\n",
       "      <td>2</td>\n",
       "      <td>0</td>\n",
       "      <td>0</td>\n",
       "      <td>0</td>\n",
       "      <td>1</td>\n",
       "      <td>0.285217</td>\n",
       "      <td>0.277330</td>\n",
       "      <td>0.407826</td>\n",
       "      <td>0.223235</td>\n",
       "      <td>639</td>\n",
       "      <td>1173</td>\n",
       "      <td>1812</td>\n",
       "    </tr>\n",
       "  </tbody>\n",
       "</table>\n",
       "</div>"
      ],
      "text/plain": [
       "     instant      dteday  season  yr  mnth  holiday  weekday  workingday  \\\n",
       "442      443  2012-03-18       1   1     3        0        0           0   \n",
       "597      598  2012-08-20       3   1     8        0        1           1   \n",
       "407      408  2012-02-12       1   1     2        0        0           0   \n",
       "313      314  2011-11-10       4   0    11        0        4           1   \n",
       "247      248  2011-09-05       3   0     9        1        1           0   \n",
       "10        11  2011-01-11       1   0     1        0        2           1   \n",
       "170      171  2011-06-20       2   0     6        0        1           1   \n",
       "576      577  2012-07-30       3   1     7        0        1           1   \n",
       "223      224  2011-08-12       3   0     8        0        5           1   \n",
       "50        51  2011-02-20       1   0     2        0        0           0   \n",
       "\n",
       "     weathersit      temp     atemp       hum  windspeed  casual  registered  \\\n",
       "442           2  0.472500  0.464000  0.810000   0.126883    2207        3685   \n",
       "597           2  0.635833  0.595967  0.734167   0.129979    1026        5504   \n",
       "407           1  0.127500  0.101658  0.464583   0.409212      73        1456   \n",
       "313           2  0.380000  0.373721  0.813333   0.189067     190        2743   \n",
       "247           2  0.673333  0.625646  0.790417   0.212696    1236        2115   \n",
       "10            2  0.169091  0.191464  0.686364   0.122132      43        1220   \n",
       "170           2  0.635000  0.595346  0.746250   0.155475     699        3311   \n",
       "576           1  0.730833  0.684987  0.668750   0.153617    1040        6065   \n",
       "223           1  0.708333  0.654042  0.415000   0.125621    1051        3854   \n",
       "50            1  0.285217  0.277330  0.407826   0.223235     639        1173   \n",
       "\n",
       "      cnt  \n",
       "442  5892  \n",
       "597  6530  \n",
       "407  1529  \n",
       "313  2933  \n",
       "247  3351  \n",
       "10   1263  \n",
       "170  4010  \n",
       "576  7105  \n",
       "223  4905  \n",
       "50   1812  "
      ]
     },
     "execution_count": 3,
     "metadata": {},
     "output_type": "execute_result"
    }
   ],
   "source": [
    "\n",
    "day.sample(10)"
   ]
  },
  {
   "cell_type": "code",
   "execution_count": 4,
   "metadata": {},
   "outputs": [
    {
     "data": {
      "text/html": [
       "<div>\n",
       "<style scoped>\n",
       "    .dataframe tbody tr th:only-of-type {\n",
       "        vertical-align: middle;\n",
       "    }\n",
       "\n",
       "    .dataframe tbody tr th {\n",
       "        vertical-align: top;\n",
       "    }\n",
       "\n",
       "    .dataframe thead th {\n",
       "        text-align: right;\n",
       "    }\n",
       "</style>\n",
       "<table border=\"1\" class=\"dataframe\">\n",
       "  <thead>\n",
       "    <tr style=\"text-align: right;\">\n",
       "      <th></th>\n",
       "      <th>instant</th>\n",
       "      <th>dteday</th>\n",
       "      <th>season</th>\n",
       "      <th>yr</th>\n",
       "      <th>mnth</th>\n",
       "      <th>hr</th>\n",
       "      <th>holiday</th>\n",
       "      <th>weekday</th>\n",
       "      <th>workingday</th>\n",
       "      <th>weathersit</th>\n",
       "      <th>temp</th>\n",
       "      <th>atemp</th>\n",
       "      <th>hum</th>\n",
       "      <th>windspeed</th>\n",
       "      <th>casual</th>\n",
       "      <th>registered</th>\n",
       "      <th>cnt</th>\n",
       "    </tr>\n",
       "  </thead>\n",
       "  <tbody>\n",
       "    <tr>\n",
       "      <th>2706</th>\n",
       "      <td>2707</td>\n",
       "      <td>2011-04-27</td>\n",
       "      <td>2</td>\n",
       "      <td>0</td>\n",
       "      <td>4</td>\n",
       "      <td>16</td>\n",
       "      <td>0</td>\n",
       "      <td>3</td>\n",
       "      <td>1</td>\n",
       "      <td>1</td>\n",
       "      <td>0.70</td>\n",
       "      <td>0.6515</td>\n",
       "      <td>0.70</td>\n",
       "      <td>0.3881</td>\n",
       "      <td>29</td>\n",
       "      <td>189</td>\n",
       "      <td>218</td>\n",
       "    </tr>\n",
       "    <tr>\n",
       "      <th>8357</th>\n",
       "      <td>8358</td>\n",
       "      <td>2011-12-19</td>\n",
       "      <td>4</td>\n",
       "      <td>0</td>\n",
       "      <td>12</td>\n",
       "      <td>21</td>\n",
       "      <td>0</td>\n",
       "      <td>1</td>\n",
       "      <td>1</td>\n",
       "      <td>2</td>\n",
       "      <td>0.36</td>\n",
       "      <td>0.3485</td>\n",
       "      <td>0.53</td>\n",
       "      <td>0.1343</td>\n",
       "      <td>15</td>\n",
       "      <td>112</td>\n",
       "      <td>127</td>\n",
       "    </tr>\n",
       "    <tr>\n",
       "      <th>4328</th>\n",
       "      <td>4329</td>\n",
       "      <td>2011-07-04</td>\n",
       "      <td>3</td>\n",
       "      <td>0</td>\n",
       "      <td>7</td>\n",
       "      <td>6</td>\n",
       "      <td>1</td>\n",
       "      <td>1</td>\n",
       "      <td>0</td>\n",
       "      <td>1</td>\n",
       "      <td>0.64</td>\n",
       "      <td>0.5758</td>\n",
       "      <td>0.89</td>\n",
       "      <td>0.1642</td>\n",
       "      <td>5</td>\n",
       "      <td>11</td>\n",
       "      <td>16</td>\n",
       "    </tr>\n",
       "    <tr>\n",
       "      <th>7990</th>\n",
       "      <td>7991</td>\n",
       "      <td>2011-12-04</td>\n",
       "      <td>4</td>\n",
       "      <td>0</td>\n",
       "      <td>12</td>\n",
       "      <td>14</td>\n",
       "      <td>0</td>\n",
       "      <td>0</td>\n",
       "      <td>0</td>\n",
       "      <td>1</td>\n",
       "      <td>0.42</td>\n",
       "      <td>0.4242</td>\n",
       "      <td>0.62</td>\n",
       "      <td>0.1343</td>\n",
       "      <td>77</td>\n",
       "      <td>246</td>\n",
       "      <td>323</td>\n",
       "    </tr>\n",
       "    <tr>\n",
       "      <th>10977</th>\n",
       "      <td>10978</td>\n",
       "      <td>2012-04-07</td>\n",
       "      <td>2</td>\n",
       "      <td>1</td>\n",
       "      <td>4</td>\n",
       "      <td>13</td>\n",
       "      <td>0</td>\n",
       "      <td>6</td>\n",
       "      <td>0</td>\n",
       "      <td>1</td>\n",
       "      <td>0.50</td>\n",
       "      <td>0.4848</td>\n",
       "      <td>0.22</td>\n",
       "      <td>0.1940</td>\n",
       "      <td>355</td>\n",
       "      <td>288</td>\n",
       "      <td>643</td>\n",
       "    </tr>\n",
       "    <tr>\n",
       "      <th>12508</th>\n",
       "      <td>12509</td>\n",
       "      <td>2012-06-10</td>\n",
       "      <td>2</td>\n",
       "      <td>1</td>\n",
       "      <td>6</td>\n",
       "      <td>9</td>\n",
       "      <td>0</td>\n",
       "      <td>0</td>\n",
       "      <td>0</td>\n",
       "      <td>1</td>\n",
       "      <td>0.70</td>\n",
       "      <td>0.6515</td>\n",
       "      <td>0.58</td>\n",
       "      <td>0.0000</td>\n",
       "      <td>91</td>\n",
       "      <td>175</td>\n",
       "      <td>266</td>\n",
       "    </tr>\n",
       "    <tr>\n",
       "      <th>7587</th>\n",
       "      <td>7588</td>\n",
       "      <td>2011-11-17</td>\n",
       "      <td>4</td>\n",
       "      <td>0</td>\n",
       "      <td>11</td>\n",
       "      <td>18</td>\n",
       "      <td>0</td>\n",
       "      <td>4</td>\n",
       "      <td>1</td>\n",
       "      <td>1</td>\n",
       "      <td>0.32</td>\n",
       "      <td>0.3182</td>\n",
       "      <td>0.39</td>\n",
       "      <td>0.1940</td>\n",
       "      <td>9</td>\n",
       "      <td>298</td>\n",
       "      <td>307</td>\n",
       "    </tr>\n",
       "    <tr>\n",
       "      <th>795</th>\n",
       "      <td>796</td>\n",
       "      <td>2011-02-05</td>\n",
       "      <td>1</td>\n",
       "      <td>0</td>\n",
       "      <td>2</td>\n",
       "      <td>14</td>\n",
       "      <td>0</td>\n",
       "      <td>6</td>\n",
       "      <td>0</td>\n",
       "      <td>3</td>\n",
       "      <td>0.22</td>\n",
       "      <td>0.2727</td>\n",
       "      <td>1.00</td>\n",
       "      <td>0.0000</td>\n",
       "      <td>5</td>\n",
       "      <td>50</td>\n",
       "      <td>55</td>\n",
       "    </tr>\n",
       "    <tr>\n",
       "      <th>8378</th>\n",
       "      <td>8379</td>\n",
       "      <td>2011-12-20</td>\n",
       "      <td>4</td>\n",
       "      <td>0</td>\n",
       "      <td>12</td>\n",
       "      <td>18</td>\n",
       "      <td>0</td>\n",
       "      <td>2</td>\n",
       "      <td>1</td>\n",
       "      <td>1</td>\n",
       "      <td>0.38</td>\n",
       "      <td>0.3939</td>\n",
       "      <td>0.66</td>\n",
       "      <td>0.1940</td>\n",
       "      <td>26</td>\n",
       "      <td>385</td>\n",
       "      <td>411</td>\n",
       "    </tr>\n",
       "    <tr>\n",
       "      <th>11916</th>\n",
       "      <td>11917</td>\n",
       "      <td>2012-05-16</td>\n",
       "      <td>2</td>\n",
       "      <td>1</td>\n",
       "      <td>5</td>\n",
       "      <td>17</td>\n",
       "      <td>0</td>\n",
       "      <td>3</td>\n",
       "      <td>1</td>\n",
       "      <td>1</td>\n",
       "      <td>0.72</td>\n",
       "      <td>0.6667</td>\n",
       "      <td>0.51</td>\n",
       "      <td>0.1940</td>\n",
       "      <td>104</td>\n",
       "      <td>769</td>\n",
       "      <td>873</td>\n",
       "    </tr>\n",
       "  </tbody>\n",
       "</table>\n",
       "</div>"
      ],
      "text/plain": [
       "       instant      dteday  season  yr  mnth  hr  holiday  weekday  \\\n",
       "2706      2707  2011-04-27       2   0     4  16        0        3   \n",
       "8357      8358  2011-12-19       4   0    12  21        0        1   \n",
       "4328      4329  2011-07-04       3   0     7   6        1        1   \n",
       "7990      7991  2011-12-04       4   0    12  14        0        0   \n",
       "10977    10978  2012-04-07       2   1     4  13        0        6   \n",
       "12508    12509  2012-06-10       2   1     6   9        0        0   \n",
       "7587      7588  2011-11-17       4   0    11  18        0        4   \n",
       "795        796  2011-02-05       1   0     2  14        0        6   \n",
       "8378      8379  2011-12-20       4   0    12  18        0        2   \n",
       "11916    11917  2012-05-16       2   1     5  17        0        3   \n",
       "\n",
       "       workingday  weathersit  temp   atemp   hum  windspeed  casual  \\\n",
       "2706            1           1  0.70  0.6515  0.70     0.3881      29   \n",
       "8357            1           2  0.36  0.3485  0.53     0.1343      15   \n",
       "4328            0           1  0.64  0.5758  0.89     0.1642       5   \n",
       "7990            0           1  0.42  0.4242  0.62     0.1343      77   \n",
       "10977           0           1  0.50  0.4848  0.22     0.1940     355   \n",
       "12508           0           1  0.70  0.6515  0.58     0.0000      91   \n",
       "7587            1           1  0.32  0.3182  0.39     0.1940       9   \n",
       "795             0           3  0.22  0.2727  1.00     0.0000       5   \n",
       "8378            1           1  0.38  0.3939  0.66     0.1940      26   \n",
       "11916           1           1  0.72  0.6667  0.51     0.1940     104   \n",
       "\n",
       "       registered  cnt  \n",
       "2706          189  218  \n",
       "8357          112  127  \n",
       "4328           11   16  \n",
       "7990          246  323  \n",
       "10977         288  643  \n",
       "12508         175  266  \n",
       "7587          298  307  \n",
       "795            50   55  \n",
       "8378          385  411  \n",
       "11916         769  873  "
      ]
     },
     "execution_count": 4,
     "metadata": {},
     "output_type": "execute_result"
    }
   ],
   "source": [
    "\n",
    "hour.sample(10)"
   ]
  },
  {
   "cell_type": "code",
   "execution_count": 5,
   "metadata": {},
   "outputs": [
    {
     "name": "stdout",
     "output_type": "stream",
     "text": [
      "(17379, 32)\n"
     ]
    },
    {
     "data": {
      "text/html": [
       "<div>\n",
       "<style scoped>\n",
       "    .dataframe tbody tr th:only-of-type {\n",
       "        vertical-align: middle;\n",
       "    }\n",
       "\n",
       "    .dataframe tbody tr th {\n",
       "        vertical-align: top;\n",
       "    }\n",
       "\n",
       "    .dataframe thead th {\n",
       "        text-align: right;\n",
       "    }\n",
       "</style>\n",
       "<table border=\"1\" class=\"dataframe\">\n",
       "  <thead>\n",
       "    <tr style=\"text-align: right;\">\n",
       "      <th></th>\n",
       "      <th>instant_daily</th>\n",
       "      <th>dteday</th>\n",
       "      <th>season_daily</th>\n",
       "      <th>yr_daily</th>\n",
       "      <th>mnth_daily</th>\n",
       "      <th>holiday_daily</th>\n",
       "      <th>weekday_daily</th>\n",
       "      <th>workingday_daily</th>\n",
       "      <th>weathersit_daily</th>\n",
       "      <th>temp_daily</th>\n",
       "      <th>...</th>\n",
       "      <th>weekday_hourly</th>\n",
       "      <th>workingday_hourly</th>\n",
       "      <th>weathersit_hourly</th>\n",
       "      <th>temp_hourly</th>\n",
       "      <th>atemp_hourly</th>\n",
       "      <th>hum_hourly</th>\n",
       "      <th>windspeed_hourly</th>\n",
       "      <th>casual_hourly</th>\n",
       "      <th>registered_hourly</th>\n",
       "      <th>cnt_hourly</th>\n",
       "    </tr>\n",
       "  </thead>\n",
       "  <tbody>\n",
       "    <tr>\n",
       "      <th>0</th>\n",
       "      <td>1</td>\n",
       "      <td>2011-01-01</td>\n",
       "      <td>1</td>\n",
       "      <td>0</td>\n",
       "      <td>1</td>\n",
       "      <td>0</td>\n",
       "      <td>6</td>\n",
       "      <td>0</td>\n",
       "      <td>2</td>\n",
       "      <td>0.344167</td>\n",
       "      <td>...</td>\n",
       "      <td>6</td>\n",
       "      <td>0</td>\n",
       "      <td>1</td>\n",
       "      <td>0.24</td>\n",
       "      <td>0.2879</td>\n",
       "      <td>0.81</td>\n",
       "      <td>0.0</td>\n",
       "      <td>3</td>\n",
       "      <td>13</td>\n",
       "      <td>16</td>\n",
       "    </tr>\n",
       "    <tr>\n",
       "      <th>1</th>\n",
       "      <td>1</td>\n",
       "      <td>2011-01-01</td>\n",
       "      <td>1</td>\n",
       "      <td>0</td>\n",
       "      <td>1</td>\n",
       "      <td>0</td>\n",
       "      <td>6</td>\n",
       "      <td>0</td>\n",
       "      <td>2</td>\n",
       "      <td>0.344167</td>\n",
       "      <td>...</td>\n",
       "      <td>6</td>\n",
       "      <td>0</td>\n",
       "      <td>1</td>\n",
       "      <td>0.22</td>\n",
       "      <td>0.2727</td>\n",
       "      <td>0.80</td>\n",
       "      <td>0.0</td>\n",
       "      <td>8</td>\n",
       "      <td>32</td>\n",
       "      <td>40</td>\n",
       "    </tr>\n",
       "    <tr>\n",
       "      <th>2</th>\n",
       "      <td>1</td>\n",
       "      <td>2011-01-01</td>\n",
       "      <td>1</td>\n",
       "      <td>0</td>\n",
       "      <td>1</td>\n",
       "      <td>0</td>\n",
       "      <td>6</td>\n",
       "      <td>0</td>\n",
       "      <td>2</td>\n",
       "      <td>0.344167</td>\n",
       "      <td>...</td>\n",
       "      <td>6</td>\n",
       "      <td>0</td>\n",
       "      <td>1</td>\n",
       "      <td>0.22</td>\n",
       "      <td>0.2727</td>\n",
       "      <td>0.80</td>\n",
       "      <td>0.0</td>\n",
       "      <td>5</td>\n",
       "      <td>27</td>\n",
       "      <td>32</td>\n",
       "    </tr>\n",
       "    <tr>\n",
       "      <th>3</th>\n",
       "      <td>1</td>\n",
       "      <td>2011-01-01</td>\n",
       "      <td>1</td>\n",
       "      <td>0</td>\n",
       "      <td>1</td>\n",
       "      <td>0</td>\n",
       "      <td>6</td>\n",
       "      <td>0</td>\n",
       "      <td>2</td>\n",
       "      <td>0.344167</td>\n",
       "      <td>...</td>\n",
       "      <td>6</td>\n",
       "      <td>0</td>\n",
       "      <td>1</td>\n",
       "      <td>0.24</td>\n",
       "      <td>0.2879</td>\n",
       "      <td>0.75</td>\n",
       "      <td>0.0</td>\n",
       "      <td>3</td>\n",
       "      <td>10</td>\n",
       "      <td>13</td>\n",
       "    </tr>\n",
       "    <tr>\n",
       "      <th>4</th>\n",
       "      <td>1</td>\n",
       "      <td>2011-01-01</td>\n",
       "      <td>1</td>\n",
       "      <td>0</td>\n",
       "      <td>1</td>\n",
       "      <td>0</td>\n",
       "      <td>6</td>\n",
       "      <td>0</td>\n",
       "      <td>2</td>\n",
       "      <td>0.344167</td>\n",
       "      <td>...</td>\n",
       "      <td>6</td>\n",
       "      <td>0</td>\n",
       "      <td>1</td>\n",
       "      <td>0.24</td>\n",
       "      <td>0.2879</td>\n",
       "      <td>0.75</td>\n",
       "      <td>0.0</td>\n",
       "      <td>0</td>\n",
       "      <td>1</td>\n",
       "      <td>1</td>\n",
       "    </tr>\n",
       "  </tbody>\n",
       "</table>\n",
       "<p>5 rows × 32 columns</p>\n",
       "</div>"
      ],
      "text/plain": [
       "   instant_daily      dteday  season_daily  yr_daily  mnth_daily  \\\n",
       "0              1  2011-01-01             1         0           1   \n",
       "1              1  2011-01-01             1         0           1   \n",
       "2              1  2011-01-01             1         0           1   \n",
       "3              1  2011-01-01             1         0           1   \n",
       "4              1  2011-01-01             1         0           1   \n",
       "\n",
       "   holiday_daily  weekday_daily  workingday_daily  weathersit_daily  \\\n",
       "0              0              6                 0                 2   \n",
       "1              0              6                 0                 2   \n",
       "2              0              6                 0                 2   \n",
       "3              0              6                 0                 2   \n",
       "4              0              6                 0                 2   \n",
       "\n",
       "   temp_daily  ...  weekday_hourly  workingday_hourly  weathersit_hourly  \\\n",
       "0    0.344167  ...               6                  0                  1   \n",
       "1    0.344167  ...               6                  0                  1   \n",
       "2    0.344167  ...               6                  0                  1   \n",
       "3    0.344167  ...               6                  0                  1   \n",
       "4    0.344167  ...               6                  0                  1   \n",
       "\n",
       "   temp_hourly  atemp_hourly  hum_hourly  windspeed_hourly  casual_hourly  \\\n",
       "0         0.24        0.2879        0.81               0.0              3   \n",
       "1         0.22        0.2727        0.80               0.0              8   \n",
       "2         0.22        0.2727        0.80               0.0              5   \n",
       "3         0.24        0.2879        0.75               0.0              3   \n",
       "4         0.24        0.2879        0.75               0.0              0   \n",
       "\n",
       "   registered_hourly  cnt_hourly  \n",
       "0                 13          16  \n",
       "1                 32          40  \n",
       "2                 27          32  \n",
       "3                 10          13  \n",
       "4                  1           1  \n",
       "\n",
       "[5 rows x 32 columns]"
      ]
     },
     "execution_count": 5,
     "metadata": {},
     "output_type": "execute_result"
    }
   ],
   "source": [
    "df = day.merge(hour, on='dteday', how='inner', suffixes=('_daily', '_hourly'))\n",
    "print(df.shape)\n",
    "# df_product.head()\n",
    "df.loc[df[\"dteday\"].isnull()]\n",
    "df.head()"
   ]
  },
  {
   "cell_type": "markdown",
   "metadata": {},
   "source": [
    "- Setelah memuat library selanjutnhya memuat semua data serta menggabungkan dataset day dan hour menjadi satu untuk mempermudah analisis"
   ]
  },
  {
   "cell_type": "markdown",
   "metadata": {},
   "source": [
    "## Assessing Data"
   ]
  },
  {
   "cell_type": "code",
   "execution_count": 6,
   "metadata": {},
   "outputs": [
    {
     "name": "stdout",
     "output_type": "stream",
     "text": [
      "<class 'pandas.core.frame.DataFrame'>\n",
      "RangeIndex: 731 entries, 0 to 730\n",
      "Data columns (total 16 columns):\n",
      " #   Column      Non-Null Count  Dtype  \n",
      "---  ------      --------------  -----  \n",
      " 0   instant     731 non-null    int64  \n",
      " 1   dteday      731 non-null    object \n",
      " 2   season      731 non-null    int64  \n",
      " 3   yr          731 non-null    int64  \n",
      " 4   mnth        731 non-null    int64  \n",
      " 5   holiday     731 non-null    int64  \n",
      " 6   weekday     731 non-null    int64  \n",
      " 7   workingday  731 non-null    int64  \n",
      " 8   weathersit  731 non-null    int64  \n",
      " 9   temp        731 non-null    float64\n",
      " 10  atemp       731 non-null    float64\n",
      " 11  hum         731 non-null    float64\n",
      " 12  windspeed   731 non-null    float64\n",
      " 13  casual      731 non-null    int64  \n",
      " 14  registered  731 non-null    int64  \n",
      " 15  cnt         731 non-null    int64  \n",
      "dtypes: float64(4), int64(11), object(1)\n",
      "memory usage: 91.5+ KB\n"
     ]
    }
   ],
   "source": [
    "\n",
    "day.info()"
   ]
  },
  {
   "cell_type": "code",
   "execution_count": 7,
   "metadata": {},
   "outputs": [
    {
     "data": {
      "text/html": [
       "<div>\n",
       "<style scoped>\n",
       "    .dataframe tbody tr th:only-of-type {\n",
       "        vertical-align: middle;\n",
       "    }\n",
       "\n",
       "    .dataframe tbody tr th {\n",
       "        vertical-align: top;\n",
       "    }\n",
       "\n",
       "    .dataframe thead th {\n",
       "        text-align: right;\n",
       "    }\n",
       "</style>\n",
       "<table border=\"1\" class=\"dataframe\">\n",
       "  <thead>\n",
       "    <tr style=\"text-align: right;\">\n",
       "      <th></th>\n",
       "      <th>instant</th>\n",
       "      <th>season</th>\n",
       "      <th>yr</th>\n",
       "      <th>mnth</th>\n",
       "      <th>holiday</th>\n",
       "      <th>weekday</th>\n",
       "      <th>workingday</th>\n",
       "      <th>weathersit</th>\n",
       "      <th>temp</th>\n",
       "      <th>atemp</th>\n",
       "      <th>hum</th>\n",
       "      <th>windspeed</th>\n",
       "      <th>casual</th>\n",
       "      <th>registered</th>\n",
       "      <th>cnt</th>\n",
       "    </tr>\n",
       "  </thead>\n",
       "  <tbody>\n",
       "    <tr>\n",
       "      <th>count</th>\n",
       "      <td>731.000000</td>\n",
       "      <td>731.000000</td>\n",
       "      <td>731.000000</td>\n",
       "      <td>731.000000</td>\n",
       "      <td>731.000000</td>\n",
       "      <td>731.000000</td>\n",
       "      <td>731.000000</td>\n",
       "      <td>731.000000</td>\n",
       "      <td>731.000000</td>\n",
       "      <td>731.000000</td>\n",
       "      <td>731.000000</td>\n",
       "      <td>731.000000</td>\n",
       "      <td>731.000000</td>\n",
       "      <td>731.000000</td>\n",
       "      <td>731.000000</td>\n",
       "    </tr>\n",
       "    <tr>\n",
       "      <th>mean</th>\n",
       "      <td>366.000000</td>\n",
       "      <td>2.496580</td>\n",
       "      <td>0.500684</td>\n",
       "      <td>6.519836</td>\n",
       "      <td>0.028728</td>\n",
       "      <td>2.997264</td>\n",
       "      <td>0.683995</td>\n",
       "      <td>1.395349</td>\n",
       "      <td>0.495385</td>\n",
       "      <td>0.474354</td>\n",
       "      <td>0.627894</td>\n",
       "      <td>0.190486</td>\n",
       "      <td>848.176471</td>\n",
       "      <td>3656.172367</td>\n",
       "      <td>4504.348837</td>\n",
       "    </tr>\n",
       "    <tr>\n",
       "      <th>std</th>\n",
       "      <td>211.165812</td>\n",
       "      <td>1.110807</td>\n",
       "      <td>0.500342</td>\n",
       "      <td>3.451913</td>\n",
       "      <td>0.167155</td>\n",
       "      <td>2.004787</td>\n",
       "      <td>0.465233</td>\n",
       "      <td>0.544894</td>\n",
       "      <td>0.183051</td>\n",
       "      <td>0.162961</td>\n",
       "      <td>0.142429</td>\n",
       "      <td>0.077498</td>\n",
       "      <td>686.622488</td>\n",
       "      <td>1560.256377</td>\n",
       "      <td>1937.211452</td>\n",
       "    </tr>\n",
       "    <tr>\n",
       "      <th>min</th>\n",
       "      <td>1.000000</td>\n",
       "      <td>1.000000</td>\n",
       "      <td>0.000000</td>\n",
       "      <td>1.000000</td>\n",
       "      <td>0.000000</td>\n",
       "      <td>0.000000</td>\n",
       "      <td>0.000000</td>\n",
       "      <td>1.000000</td>\n",
       "      <td>0.059130</td>\n",
       "      <td>0.079070</td>\n",
       "      <td>0.000000</td>\n",
       "      <td>0.022392</td>\n",
       "      <td>2.000000</td>\n",
       "      <td>20.000000</td>\n",
       "      <td>22.000000</td>\n",
       "    </tr>\n",
       "    <tr>\n",
       "      <th>25%</th>\n",
       "      <td>183.500000</td>\n",
       "      <td>2.000000</td>\n",
       "      <td>0.000000</td>\n",
       "      <td>4.000000</td>\n",
       "      <td>0.000000</td>\n",
       "      <td>1.000000</td>\n",
       "      <td>0.000000</td>\n",
       "      <td>1.000000</td>\n",
       "      <td>0.337083</td>\n",
       "      <td>0.337842</td>\n",
       "      <td>0.520000</td>\n",
       "      <td>0.134950</td>\n",
       "      <td>315.500000</td>\n",
       "      <td>2497.000000</td>\n",
       "      <td>3152.000000</td>\n",
       "    </tr>\n",
       "    <tr>\n",
       "      <th>50%</th>\n",
       "      <td>366.000000</td>\n",
       "      <td>3.000000</td>\n",
       "      <td>1.000000</td>\n",
       "      <td>7.000000</td>\n",
       "      <td>0.000000</td>\n",
       "      <td>3.000000</td>\n",
       "      <td>1.000000</td>\n",
       "      <td>1.000000</td>\n",
       "      <td>0.498333</td>\n",
       "      <td>0.486733</td>\n",
       "      <td>0.626667</td>\n",
       "      <td>0.180975</td>\n",
       "      <td>713.000000</td>\n",
       "      <td>3662.000000</td>\n",
       "      <td>4548.000000</td>\n",
       "    </tr>\n",
       "    <tr>\n",
       "      <th>75%</th>\n",
       "      <td>548.500000</td>\n",
       "      <td>3.000000</td>\n",
       "      <td>1.000000</td>\n",
       "      <td>10.000000</td>\n",
       "      <td>0.000000</td>\n",
       "      <td>5.000000</td>\n",
       "      <td>1.000000</td>\n",
       "      <td>2.000000</td>\n",
       "      <td>0.655417</td>\n",
       "      <td>0.608602</td>\n",
       "      <td>0.730209</td>\n",
       "      <td>0.233214</td>\n",
       "      <td>1096.000000</td>\n",
       "      <td>4776.500000</td>\n",
       "      <td>5956.000000</td>\n",
       "    </tr>\n",
       "    <tr>\n",
       "      <th>max</th>\n",
       "      <td>731.000000</td>\n",
       "      <td>4.000000</td>\n",
       "      <td>1.000000</td>\n",
       "      <td>12.000000</td>\n",
       "      <td>1.000000</td>\n",
       "      <td>6.000000</td>\n",
       "      <td>1.000000</td>\n",
       "      <td>3.000000</td>\n",
       "      <td>0.861667</td>\n",
       "      <td>0.840896</td>\n",
       "      <td>0.972500</td>\n",
       "      <td>0.507463</td>\n",
       "      <td>3410.000000</td>\n",
       "      <td>6946.000000</td>\n",
       "      <td>8714.000000</td>\n",
       "    </tr>\n",
       "  </tbody>\n",
       "</table>\n",
       "</div>"
      ],
      "text/plain": [
       "          instant      season          yr        mnth     holiday     weekday  \\\n",
       "count  731.000000  731.000000  731.000000  731.000000  731.000000  731.000000   \n",
       "mean   366.000000    2.496580    0.500684    6.519836    0.028728    2.997264   \n",
       "std    211.165812    1.110807    0.500342    3.451913    0.167155    2.004787   \n",
       "min      1.000000    1.000000    0.000000    1.000000    0.000000    0.000000   \n",
       "25%    183.500000    2.000000    0.000000    4.000000    0.000000    1.000000   \n",
       "50%    366.000000    3.000000    1.000000    7.000000    0.000000    3.000000   \n",
       "75%    548.500000    3.000000    1.000000   10.000000    0.000000    5.000000   \n",
       "max    731.000000    4.000000    1.000000   12.000000    1.000000    6.000000   \n",
       "\n",
       "       workingday  weathersit        temp       atemp         hum   windspeed  \\\n",
       "count  731.000000  731.000000  731.000000  731.000000  731.000000  731.000000   \n",
       "mean     0.683995    1.395349    0.495385    0.474354    0.627894    0.190486   \n",
       "std      0.465233    0.544894    0.183051    0.162961    0.142429    0.077498   \n",
       "min      0.000000    1.000000    0.059130    0.079070    0.000000    0.022392   \n",
       "25%      0.000000    1.000000    0.337083    0.337842    0.520000    0.134950   \n",
       "50%      1.000000    1.000000    0.498333    0.486733    0.626667    0.180975   \n",
       "75%      1.000000    2.000000    0.655417    0.608602    0.730209    0.233214   \n",
       "max      1.000000    3.000000    0.861667    0.840896    0.972500    0.507463   \n",
       "\n",
       "            casual   registered          cnt  \n",
       "count   731.000000   731.000000   731.000000  \n",
       "mean    848.176471  3656.172367  4504.348837  \n",
       "std     686.622488  1560.256377  1937.211452  \n",
       "min       2.000000    20.000000    22.000000  \n",
       "25%     315.500000  2497.000000  3152.000000  \n",
       "50%     713.000000  3662.000000  4548.000000  \n",
       "75%    1096.000000  4776.500000  5956.000000  \n",
       "max    3410.000000  6946.000000  8714.000000  "
      ]
     },
     "execution_count": 7,
     "metadata": {},
     "output_type": "execute_result"
    }
   ],
   "source": [
    "day.describe()"
   ]
  },
  {
   "cell_type": "code",
   "execution_count": 8,
   "metadata": {},
   "outputs": [
    {
     "name": "stdout",
     "output_type": "stream",
     "text": [
      "<class 'pandas.core.frame.DataFrame'>\n",
      "RangeIndex: 17379 entries, 0 to 17378\n",
      "Data columns (total 17 columns):\n",
      " #   Column      Non-Null Count  Dtype  \n",
      "---  ------      --------------  -----  \n",
      " 0   instant     17379 non-null  int64  \n",
      " 1   dteday      17379 non-null  object \n",
      " 2   season      17379 non-null  int64  \n",
      " 3   yr          17379 non-null  int64  \n",
      " 4   mnth        17379 non-null  int64  \n",
      " 5   hr          17379 non-null  int64  \n",
      " 6   holiday     17379 non-null  int64  \n",
      " 7   weekday     17379 non-null  int64  \n",
      " 8   workingday  17379 non-null  int64  \n",
      " 9   weathersit  17379 non-null  int64  \n",
      " 10  temp        17379 non-null  float64\n",
      " 11  atemp       17379 non-null  float64\n",
      " 12  hum         17379 non-null  float64\n",
      " 13  windspeed   17379 non-null  float64\n",
      " 14  casual      17379 non-null  int64  \n",
      " 15  registered  17379 non-null  int64  \n",
      " 16  cnt         17379 non-null  int64  \n",
      "dtypes: float64(4), int64(12), object(1)\n",
      "memory usage: 2.3+ MB\n"
     ]
    }
   ],
   "source": [
    "hour.info()"
   ]
  },
  {
   "cell_type": "code",
   "execution_count": 9,
   "metadata": {},
   "outputs": [
    {
     "data": {
      "text/html": [
       "<div>\n",
       "<style scoped>\n",
       "    .dataframe tbody tr th:only-of-type {\n",
       "        vertical-align: middle;\n",
       "    }\n",
       "\n",
       "    .dataframe tbody tr th {\n",
       "        vertical-align: top;\n",
       "    }\n",
       "\n",
       "    .dataframe thead th {\n",
       "        text-align: right;\n",
       "    }\n",
       "</style>\n",
       "<table border=\"1\" class=\"dataframe\">\n",
       "  <thead>\n",
       "    <tr style=\"text-align: right;\">\n",
       "      <th></th>\n",
       "      <th>instant</th>\n",
       "      <th>season</th>\n",
       "      <th>yr</th>\n",
       "      <th>mnth</th>\n",
       "      <th>hr</th>\n",
       "      <th>holiday</th>\n",
       "      <th>weekday</th>\n",
       "      <th>workingday</th>\n",
       "      <th>weathersit</th>\n",
       "      <th>temp</th>\n",
       "      <th>atemp</th>\n",
       "      <th>hum</th>\n",
       "      <th>windspeed</th>\n",
       "      <th>casual</th>\n",
       "      <th>registered</th>\n",
       "      <th>cnt</th>\n",
       "    </tr>\n",
       "  </thead>\n",
       "  <tbody>\n",
       "    <tr>\n",
       "      <th>count</th>\n",
       "      <td>17379.0000</td>\n",
       "      <td>17379.000000</td>\n",
       "      <td>17379.000000</td>\n",
       "      <td>17379.000000</td>\n",
       "      <td>17379.000000</td>\n",
       "      <td>17379.000000</td>\n",
       "      <td>17379.000000</td>\n",
       "      <td>17379.000000</td>\n",
       "      <td>17379.000000</td>\n",
       "      <td>17379.000000</td>\n",
       "      <td>17379.000000</td>\n",
       "      <td>17379.000000</td>\n",
       "      <td>17379.000000</td>\n",
       "      <td>17379.000000</td>\n",
       "      <td>17379.000000</td>\n",
       "      <td>17379.000000</td>\n",
       "    </tr>\n",
       "    <tr>\n",
       "      <th>mean</th>\n",
       "      <td>8690.0000</td>\n",
       "      <td>2.501640</td>\n",
       "      <td>0.502561</td>\n",
       "      <td>6.537775</td>\n",
       "      <td>11.546752</td>\n",
       "      <td>0.028770</td>\n",
       "      <td>3.003683</td>\n",
       "      <td>0.682721</td>\n",
       "      <td>1.425283</td>\n",
       "      <td>0.496987</td>\n",
       "      <td>0.475775</td>\n",
       "      <td>0.627229</td>\n",
       "      <td>0.190098</td>\n",
       "      <td>35.676218</td>\n",
       "      <td>153.786869</td>\n",
       "      <td>189.463088</td>\n",
       "    </tr>\n",
       "    <tr>\n",
       "      <th>std</th>\n",
       "      <td>5017.0295</td>\n",
       "      <td>1.106918</td>\n",
       "      <td>0.500008</td>\n",
       "      <td>3.438776</td>\n",
       "      <td>6.914405</td>\n",
       "      <td>0.167165</td>\n",
       "      <td>2.005771</td>\n",
       "      <td>0.465431</td>\n",
       "      <td>0.639357</td>\n",
       "      <td>0.192556</td>\n",
       "      <td>0.171850</td>\n",
       "      <td>0.192930</td>\n",
       "      <td>0.122340</td>\n",
       "      <td>49.305030</td>\n",
       "      <td>151.357286</td>\n",
       "      <td>181.387599</td>\n",
       "    </tr>\n",
       "    <tr>\n",
       "      <th>min</th>\n",
       "      <td>1.0000</td>\n",
       "      <td>1.000000</td>\n",
       "      <td>0.000000</td>\n",
       "      <td>1.000000</td>\n",
       "      <td>0.000000</td>\n",
       "      <td>0.000000</td>\n",
       "      <td>0.000000</td>\n",
       "      <td>0.000000</td>\n",
       "      <td>1.000000</td>\n",
       "      <td>0.020000</td>\n",
       "      <td>0.000000</td>\n",
       "      <td>0.000000</td>\n",
       "      <td>0.000000</td>\n",
       "      <td>0.000000</td>\n",
       "      <td>0.000000</td>\n",
       "      <td>1.000000</td>\n",
       "    </tr>\n",
       "    <tr>\n",
       "      <th>25%</th>\n",
       "      <td>4345.5000</td>\n",
       "      <td>2.000000</td>\n",
       "      <td>0.000000</td>\n",
       "      <td>4.000000</td>\n",
       "      <td>6.000000</td>\n",
       "      <td>0.000000</td>\n",
       "      <td>1.000000</td>\n",
       "      <td>0.000000</td>\n",
       "      <td>1.000000</td>\n",
       "      <td>0.340000</td>\n",
       "      <td>0.333300</td>\n",
       "      <td>0.480000</td>\n",
       "      <td>0.104500</td>\n",
       "      <td>4.000000</td>\n",
       "      <td>34.000000</td>\n",
       "      <td>40.000000</td>\n",
       "    </tr>\n",
       "    <tr>\n",
       "      <th>50%</th>\n",
       "      <td>8690.0000</td>\n",
       "      <td>3.000000</td>\n",
       "      <td>1.000000</td>\n",
       "      <td>7.000000</td>\n",
       "      <td>12.000000</td>\n",
       "      <td>0.000000</td>\n",
       "      <td>3.000000</td>\n",
       "      <td>1.000000</td>\n",
       "      <td>1.000000</td>\n",
       "      <td>0.500000</td>\n",
       "      <td>0.484800</td>\n",
       "      <td>0.630000</td>\n",
       "      <td>0.194000</td>\n",
       "      <td>17.000000</td>\n",
       "      <td>115.000000</td>\n",
       "      <td>142.000000</td>\n",
       "    </tr>\n",
       "    <tr>\n",
       "      <th>75%</th>\n",
       "      <td>13034.5000</td>\n",
       "      <td>3.000000</td>\n",
       "      <td>1.000000</td>\n",
       "      <td>10.000000</td>\n",
       "      <td>18.000000</td>\n",
       "      <td>0.000000</td>\n",
       "      <td>5.000000</td>\n",
       "      <td>1.000000</td>\n",
       "      <td>2.000000</td>\n",
       "      <td>0.660000</td>\n",
       "      <td>0.621200</td>\n",
       "      <td>0.780000</td>\n",
       "      <td>0.253700</td>\n",
       "      <td>48.000000</td>\n",
       "      <td>220.000000</td>\n",
       "      <td>281.000000</td>\n",
       "    </tr>\n",
       "    <tr>\n",
       "      <th>max</th>\n",
       "      <td>17379.0000</td>\n",
       "      <td>4.000000</td>\n",
       "      <td>1.000000</td>\n",
       "      <td>12.000000</td>\n",
       "      <td>23.000000</td>\n",
       "      <td>1.000000</td>\n",
       "      <td>6.000000</td>\n",
       "      <td>1.000000</td>\n",
       "      <td>4.000000</td>\n",
       "      <td>1.000000</td>\n",
       "      <td>1.000000</td>\n",
       "      <td>1.000000</td>\n",
       "      <td>0.850700</td>\n",
       "      <td>367.000000</td>\n",
       "      <td>886.000000</td>\n",
       "      <td>977.000000</td>\n",
       "    </tr>\n",
       "  </tbody>\n",
       "</table>\n",
       "</div>"
      ],
      "text/plain": [
       "          instant        season            yr          mnth            hr  \\\n",
       "count  17379.0000  17379.000000  17379.000000  17379.000000  17379.000000   \n",
       "mean    8690.0000      2.501640      0.502561      6.537775     11.546752   \n",
       "std     5017.0295      1.106918      0.500008      3.438776      6.914405   \n",
       "min        1.0000      1.000000      0.000000      1.000000      0.000000   \n",
       "25%     4345.5000      2.000000      0.000000      4.000000      6.000000   \n",
       "50%     8690.0000      3.000000      1.000000      7.000000     12.000000   \n",
       "75%    13034.5000      3.000000      1.000000     10.000000     18.000000   \n",
       "max    17379.0000      4.000000      1.000000     12.000000     23.000000   \n",
       "\n",
       "            holiday       weekday    workingday    weathersit          temp  \\\n",
       "count  17379.000000  17379.000000  17379.000000  17379.000000  17379.000000   \n",
       "mean       0.028770      3.003683      0.682721      1.425283      0.496987   \n",
       "std        0.167165      2.005771      0.465431      0.639357      0.192556   \n",
       "min        0.000000      0.000000      0.000000      1.000000      0.020000   \n",
       "25%        0.000000      1.000000      0.000000      1.000000      0.340000   \n",
       "50%        0.000000      3.000000      1.000000      1.000000      0.500000   \n",
       "75%        0.000000      5.000000      1.000000      2.000000      0.660000   \n",
       "max        1.000000      6.000000      1.000000      4.000000      1.000000   \n",
       "\n",
       "              atemp           hum     windspeed        casual    registered  \\\n",
       "count  17379.000000  17379.000000  17379.000000  17379.000000  17379.000000   \n",
       "mean       0.475775      0.627229      0.190098     35.676218    153.786869   \n",
       "std        0.171850      0.192930      0.122340     49.305030    151.357286   \n",
       "min        0.000000      0.000000      0.000000      0.000000      0.000000   \n",
       "25%        0.333300      0.480000      0.104500      4.000000     34.000000   \n",
       "50%        0.484800      0.630000      0.194000     17.000000    115.000000   \n",
       "75%        0.621200      0.780000      0.253700     48.000000    220.000000   \n",
       "max        1.000000      1.000000      0.850700    367.000000    886.000000   \n",
       "\n",
       "                cnt  \n",
       "count  17379.000000  \n",
       "mean     189.463088  \n",
       "std      181.387599  \n",
       "min        1.000000  \n",
       "25%       40.000000  \n",
       "50%      142.000000  \n",
       "75%      281.000000  \n",
       "max      977.000000  "
      ]
     },
     "execution_count": 9,
     "metadata": {},
     "output_type": "execute_result"
    }
   ],
   "source": [
    "hour.describe()"
   ]
  },
  {
   "cell_type": "code",
   "execution_count": 10,
   "metadata": {},
   "outputs": [
    {
     "name": "stdout",
     "output_type": "stream",
     "text": [
      "<class 'pandas.core.frame.DataFrame'>\n",
      "RangeIndex: 17379 entries, 0 to 17378\n",
      "Data columns (total 32 columns):\n",
      " #   Column             Non-Null Count  Dtype  \n",
      "---  ------             --------------  -----  \n",
      " 0   instant_daily      17379 non-null  int64  \n",
      " 1   dteday             17379 non-null  object \n",
      " 2   season_daily       17379 non-null  int64  \n",
      " 3   yr_daily           17379 non-null  int64  \n",
      " 4   mnth_daily         17379 non-null  int64  \n",
      " 5   holiday_daily      17379 non-null  int64  \n",
      " 6   weekday_daily      17379 non-null  int64  \n",
      " 7   workingday_daily   17379 non-null  int64  \n",
      " 8   weathersit_daily   17379 non-null  int64  \n",
      " 9   temp_daily         17379 non-null  float64\n",
      " 10  atemp_daily        17379 non-null  float64\n",
      " 11  hum_daily          17379 non-null  float64\n",
      " 12  windspeed_daily    17379 non-null  float64\n",
      " 13  casual_daily       17379 non-null  int64  \n",
      " 14  registered_daily   17379 non-null  int64  \n",
      " 15  cnt_daily          17379 non-null  int64  \n",
      " 16  instant_hourly     17379 non-null  int64  \n",
      " 17  season_hourly      17379 non-null  int64  \n",
      " 18  yr_hourly          17379 non-null  int64  \n",
      " 19  mnth_hourly        17379 non-null  int64  \n",
      " 20  hr                 17379 non-null  int64  \n",
      " 21  holiday_hourly     17379 non-null  int64  \n",
      " 22  weekday_hourly     17379 non-null  int64  \n",
      " 23  workingday_hourly  17379 non-null  int64  \n",
      " 24  weathersit_hourly  17379 non-null  int64  \n",
      " 25  temp_hourly        17379 non-null  float64\n",
      " 26  atemp_hourly       17379 non-null  float64\n",
      " 27  hum_hourly         17379 non-null  float64\n",
      " 28  windspeed_hourly   17379 non-null  float64\n",
      " 29  casual_hourly      17379 non-null  int64  \n",
      " 30  registered_hourly  17379 non-null  int64  \n",
      " 31  cnt_hourly         17379 non-null  int64  \n",
      "dtypes: float64(8), int64(23), object(1)\n",
      "memory usage: 4.2+ MB\n"
     ]
    }
   ],
   "source": [
    "df.info()"
   ]
  },
  {
   "cell_type": "code",
   "execution_count": 11,
   "metadata": {},
   "outputs": [
    {
     "data": {
      "text/html": [
       "<div>\n",
       "<style scoped>\n",
       "    .dataframe tbody tr th:only-of-type {\n",
       "        vertical-align: middle;\n",
       "    }\n",
       "\n",
       "    .dataframe tbody tr th {\n",
       "        vertical-align: top;\n",
       "    }\n",
       "\n",
       "    .dataframe thead th {\n",
       "        text-align: right;\n",
       "    }\n",
       "</style>\n",
       "<table border=\"1\" class=\"dataframe\">\n",
       "  <thead>\n",
       "    <tr style=\"text-align: right;\">\n",
       "      <th></th>\n",
       "      <th>instant_daily</th>\n",
       "      <th>season_daily</th>\n",
       "      <th>yr_daily</th>\n",
       "      <th>mnth_daily</th>\n",
       "      <th>holiday_daily</th>\n",
       "      <th>weekday_daily</th>\n",
       "      <th>workingday_daily</th>\n",
       "      <th>weathersit_daily</th>\n",
       "      <th>temp_daily</th>\n",
       "      <th>atemp_daily</th>\n",
       "      <th>...</th>\n",
       "      <th>weekday_hourly</th>\n",
       "      <th>workingday_hourly</th>\n",
       "      <th>weathersit_hourly</th>\n",
       "      <th>temp_hourly</th>\n",
       "      <th>atemp_hourly</th>\n",
       "      <th>hum_hourly</th>\n",
       "      <th>windspeed_hourly</th>\n",
       "      <th>casual_hourly</th>\n",
       "      <th>registered_hourly</th>\n",
       "      <th>cnt_hourly</th>\n",
       "    </tr>\n",
       "  </thead>\n",
       "  <tbody>\n",
       "    <tr>\n",
       "      <th>count</th>\n",
       "      <td>17379.000000</td>\n",
       "      <td>17379.000000</td>\n",
       "      <td>17379.000000</td>\n",
       "      <td>17379.000000</td>\n",
       "      <td>17379.000000</td>\n",
       "      <td>17379.000000</td>\n",
       "      <td>17379.000000</td>\n",
       "      <td>17379.000000</td>\n",
       "      <td>17379.000000</td>\n",
       "      <td>17379.000000</td>\n",
       "      <td>...</td>\n",
       "      <td>17379.000000</td>\n",
       "      <td>17379.000000</td>\n",
       "      <td>17379.000000</td>\n",
       "      <td>17379.000000</td>\n",
       "      <td>17379.000000</td>\n",
       "      <td>17379.000000</td>\n",
       "      <td>17379.000000</td>\n",
       "      <td>17379.000000</td>\n",
       "      <td>17379.000000</td>\n",
       "      <td>17379.000000</td>\n",
       "    </tr>\n",
       "    <tr>\n",
       "      <th>mean</th>\n",
       "      <td>367.172622</td>\n",
       "      <td>2.501640</td>\n",
       "      <td>0.502561</td>\n",
       "      <td>6.537775</td>\n",
       "      <td>0.028770</td>\n",
       "      <td>3.003683</td>\n",
       "      <td>0.682721</td>\n",
       "      <td>1.391680</td>\n",
       "      <td>0.496987</td>\n",
       "      <td>0.475775</td>\n",
       "      <td>...</td>\n",
       "      <td>3.003683</td>\n",
       "      <td>0.682721</td>\n",
       "      <td>1.425283</td>\n",
       "      <td>0.496987</td>\n",
       "      <td>0.475775</td>\n",
       "      <td>0.627229</td>\n",
       "      <td>0.190098</td>\n",
       "      <td>35.676218</td>\n",
       "      <td>153.786869</td>\n",
       "      <td>189.463088</td>\n",
       "    </tr>\n",
       "    <tr>\n",
       "      <th>std</th>\n",
       "      <td>210.072051</td>\n",
       "      <td>1.106918</td>\n",
       "      <td>0.500008</td>\n",
       "      <td>3.438776</td>\n",
       "      <td>0.167165</td>\n",
       "      <td>2.005771</td>\n",
       "      <td>0.465431</td>\n",
       "      <td>0.540501</td>\n",
       "      <td>0.182445</td>\n",
       "      <td>0.162426</td>\n",
       "      <td>...</td>\n",
       "      <td>2.005771</td>\n",
       "      <td>0.465431</td>\n",
       "      <td>0.639357</td>\n",
       "      <td>0.192556</td>\n",
       "      <td>0.171850</td>\n",
       "      <td>0.192930</td>\n",
       "      <td>0.122340</td>\n",
       "      <td>49.305030</td>\n",
       "      <td>151.357286</td>\n",
       "      <td>181.387599</td>\n",
       "    </tr>\n",
       "    <tr>\n",
       "      <th>min</th>\n",
       "      <td>1.000000</td>\n",
       "      <td>1.000000</td>\n",
       "      <td>0.000000</td>\n",
       "      <td>1.000000</td>\n",
       "      <td>0.000000</td>\n",
       "      <td>0.000000</td>\n",
       "      <td>0.000000</td>\n",
       "      <td>1.000000</td>\n",
       "      <td>0.059130</td>\n",
       "      <td>0.079070</td>\n",
       "      <td>...</td>\n",
       "      <td>0.000000</td>\n",
       "      <td>0.000000</td>\n",
       "      <td>1.000000</td>\n",
       "      <td>0.020000</td>\n",
       "      <td>0.000000</td>\n",
       "      <td>0.000000</td>\n",
       "      <td>0.000000</td>\n",
       "      <td>0.000000</td>\n",
       "      <td>0.000000</td>\n",
       "      <td>1.000000</td>\n",
       "    </tr>\n",
       "    <tr>\n",
       "      <th>25%</th>\n",
       "      <td>185.000000</td>\n",
       "      <td>2.000000</td>\n",
       "      <td>0.000000</td>\n",
       "      <td>4.000000</td>\n",
       "      <td>0.000000</td>\n",
       "      <td>1.000000</td>\n",
       "      <td>0.000000</td>\n",
       "      <td>1.000000</td>\n",
       "      <td>0.340000</td>\n",
       "      <td>0.338363</td>\n",
       "      <td>...</td>\n",
       "      <td>1.000000</td>\n",
       "      <td>0.000000</td>\n",
       "      <td>1.000000</td>\n",
       "      <td>0.340000</td>\n",
       "      <td>0.333300</td>\n",
       "      <td>0.480000</td>\n",
       "      <td>0.104500</td>\n",
       "      <td>4.000000</td>\n",
       "      <td>34.000000</td>\n",
       "      <td>40.000000</td>\n",
       "    </tr>\n",
       "    <tr>\n",
       "      <th>50%</th>\n",
       "      <td>367.000000</td>\n",
       "      <td>3.000000</td>\n",
       "      <td>1.000000</td>\n",
       "      <td>7.000000</td>\n",
       "      <td>0.000000</td>\n",
       "      <td>3.000000</td>\n",
       "      <td>1.000000</td>\n",
       "      <td>1.000000</td>\n",
       "      <td>0.502500</td>\n",
       "      <td>0.490122</td>\n",
       "      <td>...</td>\n",
       "      <td>3.000000</td>\n",
       "      <td>1.000000</td>\n",
       "      <td>1.000000</td>\n",
       "      <td>0.500000</td>\n",
       "      <td>0.484800</td>\n",
       "      <td>0.630000</td>\n",
       "      <td>0.194000</td>\n",
       "      <td>17.000000</td>\n",
       "      <td>115.000000</td>\n",
       "      <td>142.000000</td>\n",
       "    </tr>\n",
       "    <tr>\n",
       "      <th>75%</th>\n",
       "      <td>549.000000</td>\n",
       "      <td>3.000000</td>\n",
       "      <td>1.000000</td>\n",
       "      <td>10.000000</td>\n",
       "      <td>0.000000</td>\n",
       "      <td>5.000000</td>\n",
       "      <td>1.000000</td>\n",
       "      <td>2.000000</td>\n",
       "      <td>0.655833</td>\n",
       "      <td>0.610488</td>\n",
       "      <td>...</td>\n",
       "      <td>5.000000</td>\n",
       "      <td>1.000000</td>\n",
       "      <td>2.000000</td>\n",
       "      <td>0.660000</td>\n",
       "      <td>0.621200</td>\n",
       "      <td>0.780000</td>\n",
       "      <td>0.253700</td>\n",
       "      <td>48.000000</td>\n",
       "      <td>220.000000</td>\n",
       "      <td>281.000000</td>\n",
       "    </tr>\n",
       "    <tr>\n",
       "      <th>max</th>\n",
       "      <td>731.000000</td>\n",
       "      <td>4.000000</td>\n",
       "      <td>1.000000</td>\n",
       "      <td>12.000000</td>\n",
       "      <td>1.000000</td>\n",
       "      <td>6.000000</td>\n",
       "      <td>1.000000</td>\n",
       "      <td>3.000000</td>\n",
       "      <td>0.861667</td>\n",
       "      <td>0.840896</td>\n",
       "      <td>...</td>\n",
       "      <td>6.000000</td>\n",
       "      <td>1.000000</td>\n",
       "      <td>4.000000</td>\n",
       "      <td>1.000000</td>\n",
       "      <td>1.000000</td>\n",
       "      <td>1.000000</td>\n",
       "      <td>0.850700</td>\n",
       "      <td>367.000000</td>\n",
       "      <td>886.000000</td>\n",
       "      <td>977.000000</td>\n",
       "    </tr>\n",
       "  </tbody>\n",
       "</table>\n",
       "<p>8 rows × 31 columns</p>\n",
       "</div>"
      ],
      "text/plain": [
       "       instant_daily  season_daily      yr_daily    mnth_daily  holiday_daily  \\\n",
       "count   17379.000000  17379.000000  17379.000000  17379.000000   17379.000000   \n",
       "mean      367.172622      2.501640      0.502561      6.537775       0.028770   \n",
       "std       210.072051      1.106918      0.500008      3.438776       0.167165   \n",
       "min         1.000000      1.000000      0.000000      1.000000       0.000000   \n",
       "25%       185.000000      2.000000      0.000000      4.000000       0.000000   \n",
       "50%       367.000000      3.000000      1.000000      7.000000       0.000000   \n",
       "75%       549.000000      3.000000      1.000000     10.000000       0.000000   \n",
       "max       731.000000      4.000000      1.000000     12.000000       1.000000   \n",
       "\n",
       "       weekday_daily  workingday_daily  weathersit_daily    temp_daily  \\\n",
       "count   17379.000000      17379.000000      17379.000000  17379.000000   \n",
       "mean        3.003683          0.682721          1.391680      0.496987   \n",
       "std         2.005771          0.465431          0.540501      0.182445   \n",
       "min         0.000000          0.000000          1.000000      0.059130   \n",
       "25%         1.000000          0.000000          1.000000      0.340000   \n",
       "50%         3.000000          1.000000          1.000000      0.502500   \n",
       "75%         5.000000          1.000000          2.000000      0.655833   \n",
       "max         6.000000          1.000000          3.000000      0.861667   \n",
       "\n",
       "        atemp_daily  ...  weekday_hourly  workingday_hourly  \\\n",
       "count  17379.000000  ...    17379.000000       17379.000000   \n",
       "mean       0.475775  ...        3.003683           0.682721   \n",
       "std        0.162426  ...        2.005771           0.465431   \n",
       "min        0.079070  ...        0.000000           0.000000   \n",
       "25%        0.338363  ...        1.000000           0.000000   \n",
       "50%        0.490122  ...        3.000000           1.000000   \n",
       "75%        0.610488  ...        5.000000           1.000000   \n",
       "max        0.840896  ...        6.000000           1.000000   \n",
       "\n",
       "       weathersit_hourly   temp_hourly  atemp_hourly    hum_hourly  \\\n",
       "count       17379.000000  17379.000000  17379.000000  17379.000000   \n",
       "mean            1.425283      0.496987      0.475775      0.627229   \n",
       "std             0.639357      0.192556      0.171850      0.192930   \n",
       "min             1.000000      0.020000      0.000000      0.000000   \n",
       "25%             1.000000      0.340000      0.333300      0.480000   \n",
       "50%             1.000000      0.500000      0.484800      0.630000   \n",
       "75%             2.000000      0.660000      0.621200      0.780000   \n",
       "max             4.000000      1.000000      1.000000      1.000000   \n",
       "\n",
       "       windspeed_hourly  casual_hourly  registered_hourly    cnt_hourly  \n",
       "count      17379.000000   17379.000000       17379.000000  17379.000000  \n",
       "mean           0.190098      35.676218         153.786869    189.463088  \n",
       "std            0.122340      49.305030         151.357286    181.387599  \n",
       "min            0.000000       0.000000           0.000000      1.000000  \n",
       "25%            0.104500       4.000000          34.000000     40.000000  \n",
       "50%            0.194000      17.000000         115.000000    142.000000  \n",
       "75%            0.253700      48.000000         220.000000    281.000000  \n",
       "max            0.850700     367.000000         886.000000    977.000000  \n",
       "\n",
       "[8 rows x 31 columns]"
      ]
     },
     "execution_count": 11,
     "metadata": {},
     "output_type": "execute_result"
    }
   ],
   "source": [
    "df.describe()"
   ]
  },
  {
   "cell_type": "markdown",
   "metadata": {},
   "source": [
    "- Tahap ini kita melihat seluruh informasi data yang telah dimuat"
   ]
  },
  {
   "cell_type": "markdown",
   "metadata": {},
   "source": [
    "## Cleaning Data"
   ]
  },
  {
   "cell_type": "markdown",
   "metadata": {},
   "source": []
  },
  {
   "cell_type": "code",
   "execution_count": 12,
   "metadata": {},
   "outputs": [],
   "source": [
    "def explore_missing_and_duplicates(data):\n",
    "    # Mencari nilai hilang\n",
    "    null_values = data.isna().sum().to_frame()\n",
    "    null_values = null_values.rename(columns={0: 'missing_values'})\n",
    "    null_values['% of total'] = (null_values['missing_values'] / data.shape[0]).round(2)\n",
    "    null_values = null_values.sort_values(by='missing_values', ascending=False)\n",
    "\n",
    "    # Mencari data yang terduplikat\n",
    "    duplicate_values = data[data.duplicated()]\n",
    "\n",
    "    return null_values, duplicate_values\n"
   ]
  },
  {
   "cell_type": "code",
   "execution_count": 13,
   "metadata": {},
   "outputs": [
    {
     "name": "stdout",
     "output_type": "stream",
     "text": [
      "Null values in 'day':\n",
      "            missing_values  % of total\n",
      "instant                  0         0.0\n",
      "dteday                   0         0.0\n",
      "season                   0         0.0\n",
      "yr                       0         0.0\n",
      "mnth                     0         0.0\n",
      "holiday                  0         0.0\n",
      "weekday                  0         0.0\n",
      "workingday               0         0.0\n",
      "weathersit               0         0.0\n",
      "temp                     0         0.0\n",
      "atemp                    0         0.0\n",
      "hum                      0         0.0\n",
      "windspeed                0         0.0\n",
      "casual                   0         0.0\n",
      "registered               0         0.0\n",
      "cnt                      0         0.0\n",
      "\n",
      "Duplicate values in 'day':\n",
      "Empty DataFrame\n",
      "Columns: [instant, dteday, season, yr, mnth, holiday, weekday, workingday, weathersit, temp, atemp, hum, windspeed, casual, registered, cnt]\n",
      "Index: []\n"
     ]
    }
   ],
   "source": [
    "# Memanggil fungsi untuk DataFrame 'day'\n",
    "null_values_day, duplicate_values_day = explore_missing_and_duplicates(day)\n",
    "\n",
    "\n",
    "\n",
    "# Menampilkan hasil untuk DataFrame 'day'\n",
    "print(\"Null values in 'day':\")\n",
    "print(null_values_day)\n",
    "\n",
    "print(\"\\nDuplicate values in 'day':\")\n",
    "print(duplicate_values_day)\n",
    "\n",
    "\n"
   ]
  },
  {
   "cell_type": "code",
   "execution_count": 14,
   "metadata": {},
   "outputs": [
    {
     "name": "stdout",
     "output_type": "stream",
     "text": [
      "\n",
      "Null values in 'hour':\n",
      "            missing_values  % of total\n",
      "instant                  0         0.0\n",
      "weathersit               0         0.0\n",
      "registered               0         0.0\n",
      "casual                   0         0.0\n",
      "windspeed                0         0.0\n",
      "hum                      0         0.0\n",
      "atemp                    0         0.0\n",
      "temp                     0         0.0\n",
      "workingday               0         0.0\n",
      "dteday                   0         0.0\n",
      "weekday                  0         0.0\n",
      "holiday                  0         0.0\n",
      "hr                       0         0.0\n",
      "mnth                     0         0.0\n",
      "yr                       0         0.0\n",
      "season                   0         0.0\n",
      "cnt                      0         0.0\n",
      "\n",
      "Duplicate values in 'hour':\n",
      "Empty DataFrame\n",
      "Columns: [instant, dteday, season, yr, mnth, hr, holiday, weekday, workingday, weathersit, temp, atemp, hum, windspeed, casual, registered, cnt]\n",
      "Index: []\n"
     ]
    }
   ],
   "source": [
    "# Memanggil fungsi untuk DataFrame 'hour'\n",
    "null_values_hour, duplicate_values_hour = explore_missing_and_duplicates(hour)\n",
    "# Menampilkan hasil untuk DataFrame 'hour'\n",
    "print(\"\\nNull values in 'hour':\")\n",
    "print(null_values_hour)\n",
    "\n",
    "print(\"\\nDuplicate values in 'hour':\")\n",
    "print(duplicate_values_hour)"
   ]
  },
  {
   "cell_type": "code",
   "execution_count": 15,
   "metadata": {},
   "outputs": [
    {
     "name": "stdout",
     "output_type": "stream",
     "text": [
      "\n",
      "Null values in 'df':\n",
      "                   missing_values  % of total\n",
      "instant_daily                   0         0.0\n",
      "dteday                          0         0.0\n",
      "registered_hourly               0         0.0\n",
      "casual_hourly                   0         0.0\n",
      "windspeed_hourly                0         0.0\n",
      "hum_hourly                      0         0.0\n",
      "atemp_hourly                    0         0.0\n",
      "temp_hourly                     0         0.0\n",
      "weathersit_hourly               0         0.0\n",
      "workingday_hourly               0         0.0\n",
      "weekday_hourly                  0         0.0\n",
      "holiday_hourly                  0         0.0\n",
      "hr                              0         0.0\n",
      "mnth_hourly                     0         0.0\n",
      "yr_hourly                       0         0.0\n",
      "season_hourly                   0         0.0\n",
      "instant_hourly                  0         0.0\n",
      "cnt_daily                       0         0.0\n",
      "registered_daily                0         0.0\n",
      "casual_daily                    0         0.0\n",
      "windspeed_daily                 0         0.0\n",
      "hum_daily                       0         0.0\n",
      "atemp_daily                     0         0.0\n",
      "temp_daily                      0         0.0\n",
      "weathersit_daily                0         0.0\n",
      "workingday_daily                0         0.0\n",
      "weekday_daily                   0         0.0\n",
      "holiday_daily                   0         0.0\n",
      "mnth_daily                      0         0.0\n",
      "yr_daily                        0         0.0\n",
      "season_daily                    0         0.0\n",
      "cnt_hourly                      0         0.0\n",
      "\n",
      "Duplicate values in 'df':\n",
      "Empty DataFrame\n",
      "Columns: [instant_daily, dteday, season_daily, yr_daily, mnth_daily, holiday_daily, weekday_daily, workingday_daily, weathersit_daily, temp_daily, atemp_daily, hum_daily, windspeed_daily, casual_daily, registered_daily, cnt_daily, instant_hourly, season_hourly, yr_hourly, mnth_hourly, hr, holiday_hourly, weekday_hourly, workingday_hourly, weathersit_hourly, temp_hourly, atemp_hourly, hum_hourly, windspeed_hourly, casual_hourly, registered_hourly, cnt_hourly]\n",
      "Index: []\n",
      "\n",
      "[0 rows x 32 columns]\n"
     ]
    }
   ],
   "source": [
    "# Memanggil fungsi untuk DataFrame 'hour'\n",
    "null_values_hour, duplicate_values_hour = explore_missing_and_duplicates(df)\n",
    "# Menampilkan hasil untuk DataFrame 'hour'\n",
    "print(\"\\nNull values in 'df':\")\n",
    "print(null_values_hour)\n",
    "\n",
    "print(\"\\nDuplicate values in 'df':\")\n",
    "print(duplicate_values_hour)"
   ]
  },
  {
   "cell_type": "code",
   "execution_count": 16,
   "metadata": {},
   "outputs": [],
   "source": [
    "df['season_daily'].replace({1: 'spring', 2: 'summer', 3: 'fall', 4: 'winter'}, inplace=True)\n",
    "df['season_hourly'].replace({1: 'spring', 2: 'summer', 3: 'fall', 4: 'winter'}, inplace=True)"
   ]
  },
  {
   "cell_type": "code",
   "execution_count": 17,
   "metadata": {},
   "outputs": [],
   "source": [
    "\n",
    "df['weekday_daily'].replace({0: 'sunday', 1: 'monday', 2: 'tuesday', 3: 'wednesday', 4: 'thursday', 5: 'friday', 6: 'saturday'}, inplace=True)\n",
    "\n",
    "df['weekday_hourly'].replace({0: 'sunday', 1: 'monday', 2: 'tuesday', 3: 'wednesday', 4: 'thursday', 5: 'friday', 6: 'saturday'}, inplace=True)\n"
   ]
  },
  {
   "cell_type": "code",
   "execution_count": 18,
   "metadata": {},
   "outputs": [
    {
     "name": "stdout",
     "output_type": "stream",
     "text": [
      "<class 'pandas.core.frame.DataFrame'>\n",
      "RangeIndex: 17379 entries, 0 to 17378\n",
      "Data columns (total 32 columns):\n",
      " #   Column             Non-Null Count  Dtype  \n",
      "---  ------             --------------  -----  \n",
      " 0   instant_daily      17379 non-null  int64  \n",
      " 1   dteday             17379 non-null  object \n",
      " 2   season_daily       17379 non-null  object \n",
      " 3   yr_daily           17379 non-null  int64  \n",
      " 4   mnth_daily         17379 non-null  int64  \n",
      " 5   holiday_daily      17379 non-null  int64  \n",
      " 6   weekday_daily      17379 non-null  object \n",
      " 7   workingday_daily   17379 non-null  int64  \n",
      " 8   weathersit_daily   17379 non-null  int64  \n",
      " 9   temp_daily         17379 non-null  float64\n",
      " 10  atemp_daily        17379 non-null  float64\n",
      " 11  hum_daily          17379 non-null  float64\n",
      " 12  windspeed_daily    17379 non-null  float64\n",
      " 13  casual_daily       17379 non-null  int64  \n",
      " 14  registered_daily   17379 non-null  int64  \n",
      " 15  cnt_daily          17379 non-null  int64  \n",
      " 16  instant_hourly     17379 non-null  int64  \n",
      " 17  season_hourly      17379 non-null  object \n",
      " 18  yr_hourly          17379 non-null  int64  \n",
      " 19  mnth_hourly        17379 non-null  int64  \n",
      " 20  hr                 17379 non-null  int64  \n",
      " 21  holiday_hourly     17379 non-null  int64  \n",
      " 22  weekday_hourly     17379 non-null  object \n",
      " 23  workingday_hourly  17379 non-null  int64  \n",
      " 24  weathersit_hourly  17379 non-null  int64  \n",
      " 25  temp_hourly        17379 non-null  float64\n",
      " 26  atemp_hourly       17379 non-null  float64\n",
      " 27  hum_hourly         17379 non-null  float64\n",
      " 28  windspeed_hourly   17379 non-null  float64\n",
      " 29  casual_hourly      17379 non-null  int64  \n",
      " 30  registered_hourly  17379 non-null  int64  \n",
      " 31  cnt_hourly         17379 non-null  int64  \n",
      "dtypes: float64(8), int64(19), object(5)\n",
      "memory usage: 4.2+ MB\n"
     ]
    }
   ],
   "source": [
    "df.info()"
   ]
  },
  {
   "cell_type": "markdown",
   "metadata": {},
   "source": [
    "Selanjutnya mengecek apakah data yang hilang, data terduplikat, tipe data yang tidak sesuai, dan memperkaya data dengan mengubah beberapa value agar mudah dipahami"
   ]
  },
  {
   "cell_type": "markdown",
   "metadata": {},
   "source": [
    "## Exploratory Data Analysis (EDA)\n",
    "## Explore ..."
   ]
  },
  {
   "cell_type": "code",
   "execution_count": 19,
   "metadata": {},
   "outputs": [
    {
     "name": "stdout",
     "output_type": "stream",
     "text": [
      "<class 'pandas.core.frame.DataFrame'>\n",
      "RangeIndex: 17379 entries, 0 to 17378\n",
      "Data columns (total 32 columns):\n",
      " #   Column             Non-Null Count  Dtype  \n",
      "---  ------             --------------  -----  \n",
      " 0   instant_daily      17379 non-null  int64  \n",
      " 1   dteday             17379 non-null  object \n",
      " 2   season_daily       17379 non-null  object \n",
      " 3   yr_daily           17379 non-null  int64  \n",
      " 4   mnth_daily         17379 non-null  int64  \n",
      " 5   holiday_daily      17379 non-null  int64  \n",
      " 6   weekday_daily      17379 non-null  object \n",
      " 7   workingday_daily   17379 non-null  int64  \n",
      " 8   weathersit_daily   17379 non-null  int64  \n",
      " 9   temp_daily         17379 non-null  float64\n",
      " 10  atemp_daily        17379 non-null  float64\n",
      " 11  hum_daily          17379 non-null  float64\n",
      " 12  windspeed_daily    17379 non-null  float64\n",
      " 13  casual_daily       17379 non-null  int64  \n",
      " 14  registered_daily   17379 non-null  int64  \n",
      " 15  cnt_daily          17379 non-null  int64  \n",
      " 16  instant_hourly     17379 non-null  int64  \n",
      " 17  season_hourly      17379 non-null  object \n",
      " 18  yr_hourly          17379 non-null  int64  \n",
      " 19  mnth_hourly        17379 non-null  int64  \n",
      " 20  hr                 17379 non-null  int64  \n",
      " 21  holiday_hourly     17379 non-null  int64  \n",
      " 22  weekday_hourly     17379 non-null  object \n",
      " 23  workingday_hourly  17379 non-null  int64  \n",
      " 24  weathersit_hourly  17379 non-null  int64  \n",
      " 25  temp_hourly        17379 non-null  float64\n",
      " 26  atemp_hourly       17379 non-null  float64\n",
      " 27  hum_hourly         17379 non-null  float64\n",
      " 28  windspeed_hourly   17379 non-null  float64\n",
      " 29  casual_hourly      17379 non-null  int64  \n",
      " 30  registered_hourly  17379 non-null  int64  \n",
      " 31  cnt_hourly         17379 non-null  int64  \n",
      "dtypes: float64(8), int64(19), object(5)\n",
      "memory usage: 4.2+ MB\n"
     ]
    }
   ],
   "source": [
    "df.info()"
   ]
  },
  {
   "cell_type": "code",
   "execution_count": 20,
   "metadata": {},
   "outputs": [
    {
     "data": {
      "text/html": [
       "<div>\n",
       "<style scoped>\n",
       "    .dataframe tbody tr th:only-of-type {\n",
       "        vertical-align: middle;\n",
       "    }\n",
       "\n",
       "    .dataframe tbody tr th {\n",
       "        vertical-align: top;\n",
       "    }\n",
       "\n",
       "    .dataframe thead tr th {\n",
       "        text-align: left;\n",
       "    }\n",
       "</style>\n",
       "<table border=\"1\" class=\"dataframe\">\n",
       "  <thead>\n",
       "    <tr>\n",
       "      <th></th>\n",
       "      <th>season_hourly</th>\n",
       "      <th>workingday_hourly</th>\n",
       "      <th colspan=\"2\" halign=\"left\">cnt_hourly</th>\n",
       "      <th colspan=\"4\" halign=\"left\">windspeed_hourly</th>\n",
       "    </tr>\n",
       "    <tr>\n",
       "      <th></th>\n",
       "      <th></th>\n",
       "      <th>count</th>\n",
       "      <th>mean</th>\n",
       "      <th>std</th>\n",
       "      <th>max</th>\n",
       "      <th>min</th>\n",
       "      <th>mean</th>\n",
       "      <th>&lt;lambda_0&gt;</th>\n",
       "    </tr>\n",
       "  </thead>\n",
       "  <tbody>\n",
       "    <tr>\n",
       "      <th>0</th>\n",
       "      <td>fall</td>\n",
       "      <td>4496</td>\n",
       "      <td>236.016237</td>\n",
       "      <td>197.711630</td>\n",
       "      <td>0.8507</td>\n",
       "      <td>0.0</td>\n",
       "      <td>0.171593</td>\n",
       "      <td>0.8507</td>\n",
       "    </tr>\n",
       "    <tr>\n",
       "      <th>2</th>\n",
       "      <td>summer</td>\n",
       "      <td>4409</td>\n",
       "      <td>208.344069</td>\n",
       "      <td>188.362473</td>\n",
       "      <td>0.7164</td>\n",
       "      <td>0.0</td>\n",
       "      <td>0.203410</td>\n",
       "      <td>0.7164</td>\n",
       "    </tr>\n",
       "    <tr>\n",
       "      <th>1</th>\n",
       "      <td>spring</td>\n",
       "      <td>4242</td>\n",
       "      <td>111.114569</td>\n",
       "      <td>119.224010</td>\n",
       "      <td>0.8060</td>\n",
       "      <td>0.0</td>\n",
       "      <td>0.215107</td>\n",
       "      <td>0.8060</td>\n",
       "    </tr>\n",
       "    <tr>\n",
       "      <th>3</th>\n",
       "      <td>winter</td>\n",
       "      <td>4232</td>\n",
       "      <td>198.868856</td>\n",
       "      <td>182.967972</td>\n",
       "      <td>0.6418</td>\n",
       "      <td>0.0</td>\n",
       "      <td>0.170819</td>\n",
       "      <td>0.6418</td>\n",
       "    </tr>\n",
       "  </tbody>\n",
       "</table>\n",
       "</div>"
      ],
      "text/plain": [
       "  season_hourly workingday_hourly  cnt_hourly             windspeed_hourly  \\\n",
       "                            count        mean         std              max   \n",
       "0          fall              4496  236.016237  197.711630           0.8507   \n",
       "2        summer              4409  208.344069  188.362473           0.7164   \n",
       "1        spring              4242  111.114569  119.224010           0.8060   \n",
       "3        winter              4232  198.868856  182.967972           0.6418   \n",
       "\n",
       "                             \n",
       "   min      mean <lambda_0>  \n",
       "0  0.0  0.171593     0.8507  \n",
       "2  0.0  0.203410     0.7164  \n",
       "1  0.0  0.215107     0.8060  \n",
       "3  0.0  0.170819     0.6418  "
      ]
     },
     "execution_count": 20,
     "metadata": {},
     "output_type": "execute_result"
    }
   ],
   "source": [
    "columns_to_aggregate = ['cnt_hourly', 'workingday_hourly', 'windspeed_hourly']\n",
    "\n",
    "# Menggunakan groupby untuk mengelompokkan data berdasarkan musim\n",
    "hourly_grouped = df.groupby('season_hourly')[columns_to_aggregate].agg({\n",
    "    'workingday_hourly': 'count',     # Menambahkan rata-rata untuk hari kerja\n",
    "    'cnt_hourly': ['mean', 'std'],  # Menambahkan rata-rata dan deviasi standar untuk jumlah penyewa\n",
    "    \"windspeed_hourly\": [\"max\", \"min\", \"mean\", lambda x: x.max() - x.min()]  # Menambahkan rata-rata dan deviasi standar untuk kecepatan angin\n",
    "}).reset_index().sort_values(by=(\"workingday_hourly\",\"count\"), ascending=False)\n",
    "hourly_grouped"
   ]
  },
  {
   "cell_type": "code",
   "execution_count": 21,
   "metadata": {},
   "outputs": [
    {
     "data": {
      "text/html": [
       "<div>\n",
       "<style scoped>\n",
       "    .dataframe tbody tr th:only-of-type {\n",
       "        vertical-align: middle;\n",
       "    }\n",
       "\n",
       "    .dataframe tbody tr th {\n",
       "        vertical-align: top;\n",
       "    }\n",
       "\n",
       "    .dataframe thead tr th {\n",
       "        text-align: left;\n",
       "    }\n",
       "</style>\n",
       "<table border=\"1\" class=\"dataframe\">\n",
       "  <thead>\n",
       "    <tr>\n",
       "      <th></th>\n",
       "      <th>season_hourly</th>\n",
       "      <th>workingday_hourly</th>\n",
       "      <th colspan=\"2\" halign=\"left\">cnt_hourly</th>\n",
       "      <th colspan=\"4\" halign=\"left\">windspeed_hourly</th>\n",
       "    </tr>\n",
       "    <tr>\n",
       "      <th></th>\n",
       "      <th></th>\n",
       "      <th>count</th>\n",
       "      <th>mean</th>\n",
       "      <th>std</th>\n",
       "      <th>max</th>\n",
       "      <th>min</th>\n",
       "      <th>mean</th>\n",
       "      <th>&lt;lambda_0&gt;</th>\n",
       "    </tr>\n",
       "  </thead>\n",
       "  <tbody>\n",
       "    <tr>\n",
       "      <th>0</th>\n",
       "      <td>fall</td>\n",
       "      <td>4496</td>\n",
       "      <td>236.016237</td>\n",
       "      <td>197.711630</td>\n",
       "      <td>0.8507</td>\n",
       "      <td>0.0</td>\n",
       "      <td>0.171593</td>\n",
       "      <td>0.8507</td>\n",
       "    </tr>\n",
       "    <tr>\n",
       "      <th>2</th>\n",
       "      <td>summer</td>\n",
       "      <td>4409</td>\n",
       "      <td>208.344069</td>\n",
       "      <td>188.362473</td>\n",
       "      <td>0.7164</td>\n",
       "      <td>0.0</td>\n",
       "      <td>0.203410</td>\n",
       "      <td>0.7164</td>\n",
       "    </tr>\n",
       "    <tr>\n",
       "      <th>1</th>\n",
       "      <td>spring</td>\n",
       "      <td>4242</td>\n",
       "      <td>111.114569</td>\n",
       "      <td>119.224010</td>\n",
       "      <td>0.8060</td>\n",
       "      <td>0.0</td>\n",
       "      <td>0.215107</td>\n",
       "      <td>0.8060</td>\n",
       "    </tr>\n",
       "    <tr>\n",
       "      <th>3</th>\n",
       "      <td>winter</td>\n",
       "      <td>4232</td>\n",
       "      <td>198.868856</td>\n",
       "      <td>182.967972</td>\n",
       "      <td>0.6418</td>\n",
       "      <td>0.0</td>\n",
       "      <td>0.170819</td>\n",
       "      <td>0.6418</td>\n",
       "    </tr>\n",
       "  </tbody>\n",
       "</table>\n",
       "</div>"
      ],
      "text/plain": [
       "  season_hourly workingday_hourly  cnt_hourly             windspeed_hourly  \\\n",
       "                            count        mean         std              max   \n",
       "0          fall              4496  236.016237  197.711630           0.8507   \n",
       "2        summer              4409  208.344069  188.362473           0.7164   \n",
       "1        spring              4242  111.114569  119.224010           0.8060   \n",
       "3        winter              4232  198.868856  182.967972           0.6418   \n",
       "\n",
       "                             \n",
       "   min      mean <lambda_0>  \n",
       "0  0.0  0.171593     0.8507  \n",
       "2  0.0  0.203410     0.7164  \n",
       "1  0.0  0.215107     0.8060  \n",
       "3  0.0  0.170819     0.6418  "
      ]
     },
     "execution_count": 21,
     "metadata": {},
     "output_type": "execute_result"
    }
   ],
   "source": [
    "columns_to_aggregate = ['cnt_hourly', 'workingday_hourly', 'windspeed_hourly']\n",
    "\n",
    "# Menggunakan groupby untuk mengelompokkan data berdasarkan musim\n",
    "hourly_grouped = df.groupby('season_hourly')[columns_to_aggregate].agg({\n",
    "    'workingday_hourly': 'count',     # Menambahkan rata-rata untuk hari kerja\n",
    "    'cnt_hourly': ['mean', 'std'],  # Menambahkan rata-rata dan deviasi standar untuk jumlah penyewa\n",
    "    \"windspeed_hourly\": [\"max\", \"min\", \"mean\", lambda x: x.max() - x.min()]  # Menambahkan rata-rata dan deviasi standar untuk kecepatan angin\n",
    "}).reset_index().sort_values(by=(\"workingday_hourly\",\"count\"), ascending=False)\n",
    "hourly_grouped"
   ]
  },
  {
   "cell_type": "code",
   "execution_count": 22,
   "metadata": {},
   "outputs": [
    {
     "data": {
      "text/html": [
       "<div>\n",
       "<style scoped>\n",
       "    .dataframe tbody tr th:only-of-type {\n",
       "        vertical-align: middle;\n",
       "    }\n",
       "\n",
       "    .dataframe tbody tr th {\n",
       "        vertical-align: top;\n",
       "    }\n",
       "\n",
       "    .dataframe thead tr th {\n",
       "        text-align: left;\n",
       "    }\n",
       "\n",
       "    .dataframe thead tr:last-of-type th {\n",
       "        text-align: right;\n",
       "    }\n",
       "</style>\n",
       "<table border=\"1\" class=\"dataframe\">\n",
       "  <thead>\n",
       "    <tr>\n",
       "      <th></th>\n",
       "      <th>workingday_hourly</th>\n",
       "      <th colspan=\"4\" halign=\"left\">windspeed_hourly</th>\n",
       "    </tr>\n",
       "    <tr>\n",
       "      <th></th>\n",
       "      <th>count</th>\n",
       "      <th>max</th>\n",
       "      <th>min</th>\n",
       "      <th>mean</th>\n",
       "      <th>&lt;lambda_0&gt;</th>\n",
       "    </tr>\n",
       "    <tr>\n",
       "      <th>season_hourly</th>\n",
       "      <th></th>\n",
       "      <th></th>\n",
       "      <th></th>\n",
       "      <th></th>\n",
       "      <th></th>\n",
       "    </tr>\n",
       "  </thead>\n",
       "  <tbody>\n",
       "    <tr>\n",
       "      <th>fall</th>\n",
       "      <td>4496</td>\n",
       "      <td>0.8507</td>\n",
       "      <td>0.0</td>\n",
       "      <td>0.171593</td>\n",
       "      <td>0.8507</td>\n",
       "    </tr>\n",
       "    <tr>\n",
       "      <th>summer</th>\n",
       "      <td>4409</td>\n",
       "      <td>0.7164</td>\n",
       "      <td>0.0</td>\n",
       "      <td>0.203410</td>\n",
       "      <td>0.7164</td>\n",
       "    </tr>\n",
       "    <tr>\n",
       "      <th>spring</th>\n",
       "      <td>4242</td>\n",
       "      <td>0.8060</td>\n",
       "      <td>0.0</td>\n",
       "      <td>0.215107</td>\n",
       "      <td>0.8060</td>\n",
       "    </tr>\n",
       "    <tr>\n",
       "      <th>winter</th>\n",
       "      <td>4232</td>\n",
       "      <td>0.6418</td>\n",
       "      <td>0.0</td>\n",
       "      <td>0.170819</td>\n",
       "      <td>0.6418</td>\n",
       "    </tr>\n",
       "  </tbody>\n",
       "</table>\n",
       "</div>"
      ],
      "text/plain": [
       "              workingday_hourly windspeed_hourly                          \n",
       "                          count              max  min      mean <lambda_0>\n",
       "season_hourly                                                             \n",
       "fall                       4496           0.8507  0.0  0.171593     0.8507\n",
       "summer                     4409           0.7164  0.0  0.203410     0.7164\n",
       "spring                     4242           0.8060  0.0  0.215107     0.8060\n",
       "winter                     4232           0.6418  0.0  0.170819     0.6418"
      ]
     },
     "execution_count": 22,
     "metadata": {},
     "output_type": "execute_result"
    }
   ],
   "source": [
    "df.groupby(by=\"season_hourly\").agg({\n",
    "    \"workingday_hourly\": \"count\", #menjumlahkan penyewa pada hari kerja berdasarkan musim\n",
    "    \"windspeed_hourly\": [\"max\", \"min\", \"mean\", lambda x: x.max() - x.min()]  # Membuat fungsi custom untuk range\n",
    "}).sort_values(by=(\"workingday_hourly\", \"count\"), ascending=False) #"
   ]
  },
  {
   "cell_type": "code",
   "execution_count": 23,
   "metadata": {},
   "outputs": [
    {
     "data": {
      "text/html": [
       "<div>\n",
       "<style scoped>\n",
       "    .dataframe tbody tr th:only-of-type {\n",
       "        vertical-align: middle;\n",
       "    }\n",
       "\n",
       "    .dataframe tbody tr th {\n",
       "        vertical-align: top;\n",
       "    }\n",
       "\n",
       "    .dataframe thead tr th {\n",
       "        text-align: left;\n",
       "    }\n",
       "\n",
       "    .dataframe thead tr:last-of-type th {\n",
       "        text-align: right;\n",
       "    }\n",
       "</style>\n",
       "<table border=\"1\" class=\"dataframe\">\n",
       "  <thead>\n",
       "    <tr>\n",
       "      <th></th>\n",
       "      <th colspan=\"4\" halign=\"left\">casual_hourly</th>\n",
       "      <th colspan=\"4\" halign=\"left\">registered_hourly</th>\n",
       "    </tr>\n",
       "    <tr>\n",
       "      <th></th>\n",
       "      <th>max</th>\n",
       "      <th>mean</th>\n",
       "      <th>min</th>\n",
       "      <th>std</th>\n",
       "      <th>max</th>\n",
       "      <th>mean</th>\n",
       "      <th>min</th>\n",
       "      <th>std</th>\n",
       "    </tr>\n",
       "    <tr>\n",
       "      <th>hr</th>\n",
       "      <th></th>\n",
       "      <th></th>\n",
       "      <th></th>\n",
       "      <th></th>\n",
       "      <th></th>\n",
       "      <th></th>\n",
       "      <th></th>\n",
       "      <th></th>\n",
       "    </tr>\n",
       "  </thead>\n",
       "  <tbody>\n",
       "    <tr>\n",
       "      <th>18</th>\n",
       "      <td>266</td>\n",
       "      <td>61.120879</td>\n",
       "      <td>0</td>\n",
       "      <td>50.981553</td>\n",
       "      <td>886</td>\n",
       "      <td>364.390110</td>\n",
       "      <td>20</td>\n",
       "      <td>203.599896</td>\n",
       "    </tr>\n",
       "    <tr>\n",
       "      <th>17</th>\n",
       "      <td>347</td>\n",
       "      <td>74.273973</td>\n",
       "      <td>0</td>\n",
       "      <td>61.491021</td>\n",
       "      <td>885</td>\n",
       "      <td>387.178082</td>\n",
       "      <td>14</td>\n",
       "      <td>211.676303</td>\n",
       "    </tr>\n",
       "    <tr>\n",
       "      <th>14</th>\n",
       "      <td>361</td>\n",
       "      <td>75.567901</td>\n",
       "      <td>0</td>\n",
       "      <td>71.599225</td>\n",
       "      <td>502</td>\n",
       "      <td>165.381344</td>\n",
       "      <td>12</td>\n",
       "      <td>84.055205</td>\n",
       "    </tr>\n",
       "    <tr>\n",
       "      <th>19</th>\n",
       "      <td>230</td>\n",
       "      <td>48.770604</td>\n",
       "      <td>0</td>\n",
       "      <td>42.328913</td>\n",
       "      <td>662</td>\n",
       "      <td>262.752747</td>\n",
       "      <td>11</td>\n",
       "      <td>138.708622</td>\n",
       "    </tr>\n",
       "    <tr>\n",
       "      <th>13</th>\n",
       "      <td>355</td>\n",
       "      <td>72.308642</td>\n",
       "      <td>0</td>\n",
       "      <td>69.819228</td>\n",
       "      <td>491</td>\n",
       "      <td>181.352538</td>\n",
       "      <td>9</td>\n",
       "      <td>87.424775</td>\n",
       "    </tr>\n",
       "    <tr>\n",
       "      <th>20</th>\n",
       "      <td>237</td>\n",
       "      <td>36.233516</td>\n",
       "      <td>0</td>\n",
       "      <td>32.103347</td>\n",
       "      <td>461</td>\n",
       "      <td>189.796703</td>\n",
       "      <td>8</td>\n",
       "      <td>100.293791</td>\n",
       "    </tr>\n",
       "    <tr>\n",
       "      <th>10</th>\n",
       "      <td>209</td>\n",
       "      <td>46.477304</td>\n",
       "      <td>0</td>\n",
       "      <td>41.346206</td>\n",
       "      <td>351</td>\n",
       "      <td>127.191197</td>\n",
       "      <td>8</td>\n",
       "      <td>66.281668</td>\n",
       "    </tr>\n",
       "    <tr>\n",
       "      <th>16</th>\n",
       "      <td>367</td>\n",
       "      <td>73.745205</td>\n",
       "      <td>0</td>\n",
       "      <td>67.015206</td>\n",
       "      <td>481</td>\n",
       "      <td>238.238356</td>\n",
       "      <td>8</td>\n",
       "      <td>103.765726</td>\n",
       "    </tr>\n",
       "    <tr>\n",
       "      <th>21</th>\n",
       "      <td>222</td>\n",
       "      <td>28.255495</td>\n",
       "      <td>0</td>\n",
       "      <td>25.378252</td>\n",
       "      <td>362</td>\n",
       "      <td>144.059066</td>\n",
       "      <td>6</td>\n",
       "      <td>73.149848</td>\n",
       "    </tr>\n",
       "    <tr>\n",
       "      <th>9</th>\n",
       "      <td>142</td>\n",
       "      <td>30.891334</td>\n",
       "      <td>0</td>\n",
       "      <td>24.472856</td>\n",
       "      <td>399</td>\n",
       "      <td>188.418157</td>\n",
       "      <td>6</td>\n",
       "      <td>84.633490</td>\n",
       "    </tr>\n",
       "    <tr>\n",
       "      <th>22</th>\n",
       "      <td>175</td>\n",
       "      <td>22.252747</td>\n",
       "      <td>0</td>\n",
       "      <td>20.450211</td>\n",
       "      <td>327</td>\n",
       "      <td>109.082418</td>\n",
       "      <td>5</td>\n",
       "      <td>55.252765</td>\n",
       "    </tr>\n",
       "    <tr>\n",
       "      <th>11</th>\n",
       "      <td>268</td>\n",
       "      <td>59.540578</td>\n",
       "      <td>0</td>\n",
       "      <td>54.481788</td>\n",
       "      <td>446</td>\n",
       "      <td>148.602476</td>\n",
       "      <td>5</td>\n",
       "      <td>79.090301</td>\n",
       "    </tr>\n",
       "    <tr>\n",
       "      <th>15</th>\n",
       "      <td>357</td>\n",
       "      <td>74.905350</td>\n",
       "      <td>0</td>\n",
       "      <td>70.289359</td>\n",
       "      <td>456</td>\n",
       "      <td>176.327846</td>\n",
       "      <td>4</td>\n",
       "      <td>84.488219</td>\n",
       "    </tr>\n",
       "    <tr>\n",
       "      <th>8</th>\n",
       "      <td>69</td>\n",
       "      <td>21.679505</td>\n",
       "      <td>0</td>\n",
       "      <td>13.741229</td>\n",
       "      <td>808</td>\n",
       "      <td>337.331499</td>\n",
       "      <td>4</td>\n",
       "      <td>229.698404</td>\n",
       "    </tr>\n",
       "    <tr>\n",
       "      <th>12</th>\n",
       "      <td>362</td>\n",
       "      <td>68.293956</td>\n",
       "      <td>0</td>\n",
       "      <td>64.394237</td>\n",
       "      <td>526</td>\n",
       "      <td>185.021978</td>\n",
       "      <td>3</td>\n",
       "      <td>89.240873</td>\n",
       "    </tr>\n",
       "    <tr>\n",
       "      <th>23</th>\n",
       "      <td>71</td>\n",
       "      <td>15.199176</td>\n",
       "      <td>0</td>\n",
       "      <td>13.804596</td>\n",
       "      <td>220</td>\n",
       "      <td>72.631868</td>\n",
       "      <td>2</td>\n",
       "      <td>40.446431</td>\n",
       "    </tr>\n",
       "    <tr>\n",
       "      <th>7</th>\n",
       "      <td>40</td>\n",
       "      <td>11.055021</td>\n",
       "      <td>0</td>\n",
       "      <td>8.356205</td>\n",
       "      <td>572</td>\n",
       "      <td>201.009629</td>\n",
       "      <td>1</td>\n",
       "      <td>157.120459</td>\n",
       "    </tr>\n",
       "    <tr>\n",
       "      <th>1</th>\n",
       "      <td>49</td>\n",
       "      <td>6.504144</td>\n",
       "      <td>0</td>\n",
       "      <td>7.735334</td>\n",
       "      <td>139</td>\n",
       "      <td>26.871547</td>\n",
       "      <td>0</td>\n",
       "      <td>27.344153</td>\n",
       "    </tr>\n",
       "    <tr>\n",
       "      <th>6</th>\n",
       "      <td>19</td>\n",
       "      <td>4.161379</td>\n",
       "      <td>0</td>\n",
       "      <td>3.691509</td>\n",
       "      <td>203</td>\n",
       "      <td>71.882759</td>\n",
       "      <td>0</td>\n",
       "      <td>53.535307</td>\n",
       "    </tr>\n",
       "    <tr>\n",
       "      <th>5</th>\n",
       "      <td>16</td>\n",
       "      <td>1.411437</td>\n",
       "      <td>0</td>\n",
       "      <td>1.790581</td>\n",
       "      <td>64</td>\n",
       "      <td>18.478382</td>\n",
       "      <td>0</td>\n",
       "      <td>12.674751</td>\n",
       "    </tr>\n",
       "    <tr>\n",
       "      <th>4</th>\n",
       "      <td>13</td>\n",
       "      <td>1.253945</td>\n",
       "      <td>0</td>\n",
       "      <td>1.887669</td>\n",
       "      <td>22</td>\n",
       "      <td>5.098996</td>\n",
       "      <td>0</td>\n",
       "      <td>3.134479</td>\n",
       "    </tr>\n",
       "    <tr>\n",
       "      <th>3</th>\n",
       "      <td>26</td>\n",
       "      <td>2.715925</td>\n",
       "      <td>0</td>\n",
       "      <td>4.315795</td>\n",
       "      <td>61</td>\n",
       "      <td>9.011478</td>\n",
       "      <td>0</td>\n",
       "      <td>9.743691</td>\n",
       "    </tr>\n",
       "    <tr>\n",
       "      <th>2</th>\n",
       "      <td>44</td>\n",
       "      <td>4.772028</td>\n",
       "      <td>0</td>\n",
       "      <td>6.514780</td>\n",
       "      <td>104</td>\n",
       "      <td>18.097902</td>\n",
       "      <td>0</td>\n",
       "      <td>21.303895</td>\n",
       "    </tr>\n",
       "    <tr>\n",
       "      <th>0</th>\n",
       "      <td>68</td>\n",
       "      <td>10.158402</td>\n",
       "      <td>0</td>\n",
       "      <td>10.667953</td>\n",
       "      <td>234</td>\n",
       "      <td>43.739669</td>\n",
       "      <td>0</td>\n",
       "      <td>34.019585</td>\n",
       "    </tr>\n",
       "  </tbody>\n",
       "</table>\n",
       "</div>"
      ],
      "text/plain": [
       "   casual_hourly                           registered_hourly                  \\\n",
       "             max       mean min        std               max        mean min   \n",
       "hr                                                                             \n",
       "18           266  61.120879   0  50.981553               886  364.390110  20   \n",
       "17           347  74.273973   0  61.491021               885  387.178082  14   \n",
       "14           361  75.567901   0  71.599225               502  165.381344  12   \n",
       "19           230  48.770604   0  42.328913               662  262.752747  11   \n",
       "13           355  72.308642   0  69.819228               491  181.352538   9   \n",
       "20           237  36.233516   0  32.103347               461  189.796703   8   \n",
       "10           209  46.477304   0  41.346206               351  127.191197   8   \n",
       "16           367  73.745205   0  67.015206               481  238.238356   8   \n",
       "21           222  28.255495   0  25.378252               362  144.059066   6   \n",
       "9            142  30.891334   0  24.472856               399  188.418157   6   \n",
       "22           175  22.252747   0  20.450211               327  109.082418   5   \n",
       "11           268  59.540578   0  54.481788               446  148.602476   5   \n",
       "15           357  74.905350   0  70.289359               456  176.327846   4   \n",
       "8             69  21.679505   0  13.741229               808  337.331499   4   \n",
       "12           362  68.293956   0  64.394237               526  185.021978   3   \n",
       "23            71  15.199176   0  13.804596               220   72.631868   2   \n",
       "7             40  11.055021   0   8.356205               572  201.009629   1   \n",
       "1             49   6.504144   0   7.735334               139   26.871547   0   \n",
       "6             19   4.161379   0   3.691509               203   71.882759   0   \n",
       "5             16   1.411437   0   1.790581                64   18.478382   0   \n",
       "4             13   1.253945   0   1.887669                22    5.098996   0   \n",
       "3             26   2.715925   0   4.315795                61    9.011478   0   \n",
       "2             44   4.772028   0   6.514780               104   18.097902   0   \n",
       "0             68  10.158402   0  10.667953               234   43.739669   0   \n",
       "\n",
       "                \n",
       "           std  \n",
       "hr              \n",
       "18  203.599896  \n",
       "17  211.676303  \n",
       "14   84.055205  \n",
       "19  138.708622  \n",
       "13   87.424775  \n",
       "20  100.293791  \n",
       "10   66.281668  \n",
       "16  103.765726  \n",
       "21   73.149848  \n",
       "9    84.633490  \n",
       "22   55.252765  \n",
       "11   79.090301  \n",
       "15   84.488219  \n",
       "8   229.698404  \n",
       "12   89.240873  \n",
       "23   40.446431  \n",
       "7   157.120459  \n",
       "1    27.344153  \n",
       "6    53.535307  \n",
       "5    12.674751  \n",
       "4     3.134479  \n",
       "3     9.743691  \n",
       "2    21.303895  \n",
       "0    34.019585  "
      ]
     },
     "execution_count": 23,
     "metadata": {},
     "output_type": "execute_result"
    }
   ],
   "source": [
    "hourly = df.groupby('hr')[['casual_hourly', 'registered_hourly']].agg(['max', 'mean', 'min', 'std']).sort_values(by=('registered_hourly', 'min'), ascending=False)\n",
    "hourly\n"
   ]
  },
  {
   "cell_type": "code",
   "execution_count": 24,
   "metadata": {},
   "outputs": [
    {
     "name": "stderr",
     "output_type": "stream",
     "text": [
      "C:\\Users\\cakra2\\AppData\\Local\\Temp\\ipykernel_26176\\3518522490.py:4: FutureWarning: The default of observed=False is deprecated and will be changed to True in a future version of pandas. Pass observed=False to retain current behavior or observed=True to adopt the future default and silence this warning.\n",
      "  weekly = df.groupby('weekday_daily')[['casual_daily', 'registered_daily']].agg(['max', 'mean', 'min', 'std'])\n"
     ]
    },
    {
     "data": {
      "text/html": [
       "<div>\n",
       "<style scoped>\n",
       "    .dataframe tbody tr th:only-of-type {\n",
       "        vertical-align: middle;\n",
       "    }\n",
       "\n",
       "    .dataframe tbody tr th {\n",
       "        vertical-align: top;\n",
       "    }\n",
       "\n",
       "    .dataframe thead tr th {\n",
       "        text-align: left;\n",
       "    }\n",
       "\n",
       "    .dataframe thead tr:last-of-type th {\n",
       "        text-align: right;\n",
       "    }\n",
       "</style>\n",
       "<table border=\"1\" class=\"dataframe\">\n",
       "  <thead>\n",
       "    <tr>\n",
       "      <th></th>\n",
       "      <th colspan=\"4\" halign=\"left\">casual_daily</th>\n",
       "      <th colspan=\"4\" halign=\"left\">registered_daily</th>\n",
       "    </tr>\n",
       "    <tr>\n",
       "      <th></th>\n",
       "      <th>max</th>\n",
       "      <th>mean</th>\n",
       "      <th>min</th>\n",
       "      <th>std</th>\n",
       "      <th>max</th>\n",
       "      <th>mean</th>\n",
       "      <th>min</th>\n",
       "      <th>std</th>\n",
       "    </tr>\n",
       "    <tr>\n",
       "      <th>weekday_daily</th>\n",
       "      <th></th>\n",
       "      <th></th>\n",
       "      <th></th>\n",
       "      <th></th>\n",
       "      <th></th>\n",
       "      <th></th>\n",
       "      <th></th>\n",
       "      <th></th>\n",
       "    </tr>\n",
       "  </thead>\n",
       "  <tbody>\n",
       "    <tr>\n",
       "      <th>sunday</th>\n",
       "      <td>3283</td>\n",
       "      <td>1341.694245</td>\n",
       "      <td>54</td>\n",
       "      <td>806.109301</td>\n",
       "      <td>5657</td>\n",
       "      <td>2897.811751</td>\n",
       "      <td>451</td>\n",
       "      <td>1172.237837</td>\n",
       "    </tr>\n",
       "    <tr>\n",
       "      <th>monday</th>\n",
       "      <td>3065</td>\n",
       "      <td>682.732553</td>\n",
       "      <td>2</td>\n",
       "      <td>489.817655</td>\n",
       "      <td>6435</td>\n",
       "      <td>3709.188382</td>\n",
       "      <td>20</td>\n",
       "      <td>1458.330480</td>\n",
       "    </tr>\n",
       "    <tr>\n",
       "      <th>tuesday</th>\n",
       "      <td>1348</td>\n",
       "      <td>564.445985</td>\n",
       "      <td>9</td>\n",
       "      <td>338.161224</td>\n",
       "      <td>6697</td>\n",
       "      <td>4002.262128</td>\n",
       "      <td>573</td>\n",
       "      <td>1509.808543</td>\n",
       "    </tr>\n",
       "    <tr>\n",
       "      <th>wednesday</th>\n",
       "      <td>2562</td>\n",
       "      <td>554.821818</td>\n",
       "      <td>9</td>\n",
       "      <td>399.481576</td>\n",
       "      <td>6946</td>\n",
       "      <td>4019.787475</td>\n",
       "      <td>432</td>\n",
       "      <td>1703.492653</td>\n",
       "    </tr>\n",
       "    <tr>\n",
       "      <th>thursday</th>\n",
       "      <td>1405</td>\n",
       "      <td>596.388507</td>\n",
       "      <td>15</td>\n",
       "      <td>367.768436</td>\n",
       "      <td>6781</td>\n",
       "      <td>4107.114933</td>\n",
       "      <td>416</td>\n",
       "      <td>1609.282590</td>\n",
       "    </tr>\n",
       "    <tr>\n",
       "      <th>friday</th>\n",
       "      <td>2469</td>\n",
       "      <td>754.256132</td>\n",
       "      <td>38</td>\n",
       "      <td>480.716341</td>\n",
       "      <td>6917</td>\n",
       "      <td>3946.582228</td>\n",
       "      <td>1129</td>\n",
       "      <td>1483.781108</td>\n",
       "    </tr>\n",
       "    <tr>\n",
       "      <th>saturday</th>\n",
       "      <td>3410</td>\n",
       "      <td>1469.297771</td>\n",
       "      <td>57</td>\n",
       "      <td>921.517727</td>\n",
       "      <td>5966</td>\n",
       "      <td>3092.246417</td>\n",
       "      <td>570</td>\n",
       "      <td>1348.355422</td>\n",
       "    </tr>\n",
       "  </tbody>\n",
       "</table>\n",
       "</div>"
      ],
      "text/plain": [
       "              casual_daily                              registered_daily  \\\n",
       "                       max         mean min         std              max   \n",
       "weekday_daily                                                              \n",
       "sunday                3283  1341.694245  54  806.109301             5657   \n",
       "monday                3065   682.732553   2  489.817655             6435   \n",
       "tuesday               1348   564.445985   9  338.161224             6697   \n",
       "wednesday             2562   554.821818   9  399.481576             6946   \n",
       "thursday              1405   596.388507  15  367.768436             6781   \n",
       "friday                2469   754.256132  38  480.716341             6917   \n",
       "saturday              3410  1469.297771  57  921.517727             5966   \n",
       "\n",
       "                                               \n",
       "                      mean   min          std  \n",
       "weekday_daily                                  \n",
       "sunday         2897.811751   451  1172.237837  \n",
       "monday         3709.188382    20  1458.330480  \n",
       "tuesday        4002.262128   573  1509.808543  \n",
       "wednesday      4019.787475   432  1703.492653  \n",
       "thursday       4107.114933   416  1609.282590  \n",
       "friday         3946.582228  1129  1483.781108  \n",
       "saturday       3092.246417   570  1348.355422  "
      ]
     },
     "execution_count": 24,
     "metadata": {},
     "output_type": "execute_result"
    }
   ],
   "source": [
    "\n",
    "day_order = ['sunday', 'monday', 'tuesday', 'wednesday', 'thursday', 'friday', 'saturday']\n",
    "df['weekday_daily'] = pd.Categorical(df['weekday_daily'], categories=day_order, ordered=True)\n",
    "\n",
    "weekly = df.groupby('weekday_daily')[['casual_daily', 'registered_daily']].agg(['max', 'mean', 'min', 'std'])\n",
    "weekly"
   ]
  },
  {
   "cell_type": "code",
   "execution_count": 25,
   "metadata": {},
   "outputs": [
    {
     "name": "stderr",
     "output_type": "stream",
     "text": [
      "C:\\Users\\cakra2\\AppData\\Local\\Temp\\ipykernel_26176\\1918867230.py:4: FutureWarning: The default of observed=False is deprecated and will be changed to True in a future version of pandas. Pass observed=False to retain current behavior or observed=True to adopt the future default and silence this warning.\n",
      "  seasons = df.groupby('season_daily')[['casual_daily', 'registered_daily']].agg(['max', 'mean', 'min', 'std'])\n"
     ]
    },
    {
     "data": {
      "text/html": [
       "<div>\n",
       "<style scoped>\n",
       "    .dataframe tbody tr th:only-of-type {\n",
       "        vertical-align: middle;\n",
       "    }\n",
       "\n",
       "    .dataframe tbody tr th {\n",
       "        vertical-align: top;\n",
       "    }\n",
       "\n",
       "    .dataframe thead tr th {\n",
       "        text-align: left;\n",
       "    }\n",
       "\n",
       "    .dataframe thead tr:last-of-type th {\n",
       "        text-align: right;\n",
       "    }\n",
       "</style>\n",
       "<table border=\"1\" class=\"dataframe\">\n",
       "  <thead>\n",
       "    <tr>\n",
       "      <th></th>\n",
       "      <th colspan=\"4\" halign=\"left\">casual_daily</th>\n",
       "      <th colspan=\"4\" halign=\"left\">registered_daily</th>\n",
       "    </tr>\n",
       "    <tr>\n",
       "      <th></th>\n",
       "      <th>max</th>\n",
       "      <th>mean</th>\n",
       "      <th>min</th>\n",
       "      <th>std</th>\n",
       "      <th>max</th>\n",
       "      <th>mean</th>\n",
       "      <th>min</th>\n",
       "      <th>std</th>\n",
       "    </tr>\n",
       "    <tr>\n",
       "      <th>season_daily</th>\n",
       "      <th></th>\n",
       "      <th></th>\n",
       "      <th></th>\n",
       "      <th></th>\n",
       "      <th></th>\n",
       "      <th></th>\n",
       "      <th></th>\n",
       "      <th></th>\n",
       "    </tr>\n",
       "  </thead>\n",
       "  <tbody>\n",
       "    <tr>\n",
       "      <th>spring</th>\n",
       "      <td>3155</td>\n",
       "      <td>339.582273</td>\n",
       "      <td>9</td>\n",
       "      <td>388.431620</td>\n",
       "      <td>5315</td>\n",
       "      <td>2295.765912</td>\n",
       "      <td>416</td>\n",
       "      <td>1193.673541</td>\n",
       "    </tr>\n",
       "    <tr>\n",
       "      <th>summer</th>\n",
       "      <td>3410</td>\n",
       "      <td>1106.982309</td>\n",
       "      <td>120</td>\n",
       "      <td>735.794362</td>\n",
       "      <td>6456</td>\n",
       "      <td>3888.270810</td>\n",
       "      <td>674</td>\n",
       "      <td>1348.976043</td>\n",
       "    </tr>\n",
       "    <tr>\n",
       "      <th>fall</th>\n",
       "      <td>3160</td>\n",
       "      <td>1204.153915</td>\n",
       "      <td>118</td>\n",
       "      <td>593.937687</td>\n",
       "      <td>6917</td>\n",
       "      <td>4449.939279</td>\n",
       "      <td>889</td>\n",
       "      <td>1294.726348</td>\n",
       "    </tr>\n",
       "    <tr>\n",
       "      <th>winter</th>\n",
       "      <td>3031</td>\n",
       "      <td>735.468100</td>\n",
       "      <td>2</td>\n",
       "      <td>603.919639</td>\n",
       "      <td>6946</td>\n",
       "      <td>4029.897921</td>\n",
       "      <td>20</td>\n",
       "      <td>1407.112858</td>\n",
       "    </tr>\n",
       "  </tbody>\n",
       "</table>\n",
       "</div>"
      ],
      "text/plain": [
       "             casual_daily                               registered_daily  \\\n",
       "                      max         mean  min         std              max   \n",
       "season_daily                                                               \n",
       "spring               3155   339.582273    9  388.431620             5315   \n",
       "summer               3410  1106.982309  120  735.794362             6456   \n",
       "fall                 3160  1204.153915  118  593.937687             6917   \n",
       "winter               3031   735.468100    2  603.919639             6946   \n",
       "\n",
       "                                             \n",
       "                     mean  min          std  \n",
       "season_daily                                 \n",
       "spring        2295.765912  416  1193.673541  \n",
       "summer        3888.270810  674  1348.976043  \n",
       "fall          4449.939279  889  1294.726348  \n",
       "winter        4029.897921   20  1407.112858  "
      ]
     },
     "execution_count": 25,
     "metadata": {},
     "output_type": "execute_result"
    }
   ],
   "source": [
    "season_order = ['spring', 'summer', 'fall', 'winter']\n",
    "df['season_daily'] = pd.Categorical(df['season_daily'], categories=season_order, ordered=True)\n",
    "\n",
    "seasons = df.groupby('season_daily')[['casual_daily', 'registered_daily']].agg(['max', 'mean', 'min', 'std'])\n",
    "seasons"
   ]
  },
  {
   "cell_type": "code",
   "execution_count": 26,
   "metadata": {},
   "outputs": [
    {
     "name": "stdout",
     "output_type": "stream",
     "text": [
      "Casual = 18.830168382645258 %\n",
      "Registered = 81.16983161735475 %\n"
     ]
    }
   ],
   "source": [
    "# Menghitung total 'casual' dan 'registered'\n",
    "total_casual = df['casual_hourly'].sum()\n",
    "total_registered = df['registered_hourly'].sum()\n",
    "\n",
    "# Menghitung persentase\n",
    "percentage_casual = (total_casual / (total_casual + total_registered)) * 100\n",
    "percentage_registered = (total_registered / (total_casual + total_registered)) * 100\n",
    "\n",
    "print(\"Casual =\", percentage_casual, \"%\")\n",
    "print(\"Registered =\", percentage_registered, \"%\")"
   ]
  },
  {
   "cell_type": "code",
   "execution_count": 27,
   "metadata": {},
   "outputs": [
    {
     "data": {
      "image/png": "[encoded data removed]",
      "text/plain": [
       "<Figure size 1000x800 with 2 Axes>"
      ]
     },
     "metadata": {},
     "output_type": "display_data"
    }
   ],
   "source": [
    "\n",
    "columns_of_interest = ['casual_daily', 'registered_daily', 'cnt_daily', 'casual_hourly', 'registered_hourly', 'cnt_hourly']\n",
    "numeric_columns_of_interest = df[columns_of_interest].select_dtypes(include=['float64', 'int64'])\n",
    "\n",
    "\n",
    "correlation_matrix = numeric_columns_of_interest.corr()\n",
    "\n",
    "\n",
    "plt.figure(figsize=(10, 8))\n",
    "sns.heatmap(correlation_matrix, annot=True, cmap='coolwarm', fmt='.2f', linewidths=0.5)\n",
    "plt.title('Correlation Heatmap for Casual, Registered, and Count Columns (Daily and Hourly)')\n",
    "plt.show()"
   ]
  },
  {
   "cell_type": "markdown",
   "metadata": {},
   "source": [
    "\n",
    "Tahap EDA (Exploratory Data Analysis) ini melibatkan analisis dan pemahaman awal terhadap data yang dimiliki. Berikut adalah penjelasan untuk setiap tahap EDA yang dilakukan:\n",
    "\n",
    "1. Analisis Musiman dan Cuaca (season_hourly, workingday_hourly, windspeed_hourly):\n",
    "- Data ini memberikan informasi tentang pola penyewaan berdasarkan musim, hari kerja, dan kecepatan angin.\n",
    "- Musim gugur memiliki tingkat penyewaan tertinggi, diikuti oleh musim panas dan musim dingin. Cuaca yang nyaman mungkin menjadi faktor peningkatan aktivitas penyewaan.\n",
    "- Hari kerja cenderung memiliki tingkat penyewaan yang lebih tinggi dibandingkan hari libur.\n",
    "- Kecepatan angin memiliki variasi yang dapat memengaruhi aktivitas penyewaan.\n",
    "\n",
    "2. Analisis Jam dalam Sehari (hr) dan Kecepatan Angin (windspeed_hourly):\n",
    "- Menunjukkan aktivitas penyewaan sepeda pada setiap jam dalam sehari dan hubungannya dengan kecepatan angin.\n",
    "- Pada jam-jam tertentu, terdapat puncak aktivitas penyewaan, yang bisa menjadi fokus penawaran atau promosi.\n",
    "\n",
    "3. Analisis Jam dalam Sehari dan Jumlah Penyewaan (casual_hourly, registered_hourly, cnt_hourly):\n",
    "- Menunjukkan pola penyewaan sepeda harian berdasarkan pengguna casual dan terdaftar.\n",
    "- Puncak aktivitas pengguna casual terjadi pada sore hingga malam, sementara pengguna terdaftar lebih merata sepanjang hari.\n",
    "- Jumlah penyewaan secara keseluruhan mencapai puncaknya pada sore hingga malam.\n",
    "\n",
    "4. Analisis Jam dalam Sehari dan Jumlah Penyewaan (cnt_hourly):\n",
    "- Menyajikan pola penyewaan sepeda harian secara umum tanpa membedakan pengguna casual dan terdaftar.\n",
    "- Puncak aktivitas penyewaan terjadi pada sore hingga malam.\n",
    "\n",
    "5. Analisis Harian dan Jumlah Penyewaan (weekday_daily):\n",
    "- Menunjukkan perbandingan jumlah penyewaan sepeda harian antara hari kerja dan hari libur.\n",
    "- Hari kerja memiliki jumlah penyewaan yang lebih tinggi dibandingkan hari libur.\n",
    "\n",
    "6. Analisis Musiman dan Jumlah Penyewaan Harian (season_daily):\n",
    "- Menampilkan perbandingan jumlah penyewaan harian berdasarkan musim.\n",
    "- Musim panas dan musim gugur memiliki jumlah penyewaan harian yang lebih tinggi.\n",
    "\n",
    "7. Analisis Jumlah Penyewaan Harian (casual_daily, registered_daily):\n",
    "- Menunjukkan statistik jumlah penyewaan harian oleh pengguna casual dan terdaftar.\n",
    "- Pengguna terdaftar memiliki kontribusi yang signifikan terhadap total penyewaan harian.\n",
    "\n",
    "*Persentase Kontribusi Pengguna Casual dan Terdaftar:*\n",
    "Casual: 18.83%\n",
    "Registered: 81.17%"
   ]
  },
  {
   "cell_type": "markdown",
   "metadata": {},
   "source": [
    "## Visualization & Explanatory Analysis\n",
    "\n",
    "Pada Tahap ini kita memvisualisasikan data kita berdasrkan Pertanyaan bisnis yang telah dibuat sebelumnya"
   ]
  },
  {
   "cell_type": "markdown",
   "metadata": {},
   "source": [
    "### Pertanyaan 1: Bagaimana pengaruh Cuaca terhadap Aktivitas Penyewaan Berdasarkan pengguna Casual Dan Registered?"
   ]
  },
  {
   "cell_type": "code",
   "execution_count": 28,
   "metadata": {},
   "outputs": [
    {
     "name": "stderr",
     "output_type": "stream",
     "text": [
      "C:\\Users\\cakra2\\AppData\\Local\\Temp\\ipykernel_26176\\1965717431.py:2: FutureWarning: The default of observed=False is deprecated and will be changed to True in a future version of pandas. Pass observed=False to retain current behavior or observed=True to adopt the future default and silence this warning.\n",
      "  seasonal_data_casual = df.groupby(['season_daily'])['casual_daily'].mean().reset_index()\n",
      "C:\\Users\\cakra2\\AppData\\Local\\Temp\\ipykernel_26176\\1965717431.py:3: FutureWarning: The default of observed=False is deprecated and will be changed to True in a future version of pandas. Pass observed=False to retain current behavior or observed=True to adopt the future default and silence this warning.\n",
      "  seasonal_data_registered = df.groupby(['season_daily'])['registered_daily'].mean().reset_index()\n",
      "C:\\Users\\cakra2\\AppData\\Local\\Temp\\ipykernel_26176\\1965717431.py:20: FutureWarning: \n",
      "\n",
      "Passing `palette` without assigning `hue` is deprecated and will be removed in v0.14.0. Assign the `x` variable to `hue` and set `legend=False` for the same effect.\n",
      "\n",
      "  sns.barplot(x='season_name', y='casual_daily', data=seasonal_data_casual, palette=\"mako\")\n",
      "C:\\Users\\cakra2\\AppData\\Local\\Temp\\ipykernel_26176\\1965717431.py:27: FutureWarning: \n",
      "\n",
      "Passing `palette` without assigning `hue` is deprecated and will be removed in v0.14.0. Assign the `x` variable to `hue` and set `legend=False` for the same effect.\n",
      "\n",
      "  sns.barplot(x='season_name', y='registered_daily', data=seasonal_data_registered, palette=\"mako\")\n"
     ]
    },
    {
     "data": {
      "image/png": "[encoded data removed]",
      "text/plain": [
       "<Figure size 1500x600 with 2 Axes>"
      ]
     },
     "metadata": {},
     "output_type": "display_data"
    }
   ],
   "source": [
    "# Group by daily season and calculate the mean for casual and registered users\n",
    "seasonal_data_casual = df.groupby(['season_daily'])['casual_daily'].mean().reset_index()\n",
    "seasonal_data_registered = df.groupby(['season_daily'])['registered_daily'].mean().reset_index()\n",
    "\n",
    "# Memberi nama musim\n",
    "seasonal_data_casual['season_name'] = ['Spring', 'Summer', 'Fall', 'Winter']\n",
    "seasonal_data_registered['season_name'] = ['Spring', 'Summer', 'Fall', 'Winter']\n",
    "\n",
    "# Mengurutkan data berdasarkan jumlah sewa harian (casual users)\n",
    "seasonal_data_casual = seasonal_data_casual.sort_values(by='casual_daily', ascending=False)\n",
    "\n",
    "# Mengurutkan data berdasarkan jumlah sewa harian (registered users)\n",
    "seasonal_data_registered = seasonal_data_registered.sort_values(by='registered_daily', ascending=False)\n",
    "\n",
    "# Visualisasi menggunakan barplot seaborn\n",
    "plt.figure(figsize=(15, 6))\n",
    "\n",
    "# Plot untuk casual users\n",
    "plt.subplot(1, 2, 1)\n",
    "sns.barplot(x='season_name', y='casual_daily', data=seasonal_data_casual, palette=\"mako\")\n",
    "plt.title('Casual Users')\n",
    "plt.xlabel('Musim')\n",
    "plt.ylabel('Rata-rata Jumlah Sewa Harian')\n",
    "\n",
    "# Plot untuk registered users\n",
    "plt.subplot(1, 2, 2)\n",
    "sns.barplot(x='season_name', y='registered_daily', data=seasonal_data_registered, palette=\"mako\")\n",
    "plt.title('Registered Users')\n",
    "plt.xlabel('Musim')\n",
    "plt.ylabel('Rata-rata Jumlah Sewa Harian')\n",
    "\n",
    "plt.tight_layout()  # Untuk memastikan subplot tidak tumpang tindih\n",
    "plt.show()\n"
   ]
  },
  {
   "cell_type": "code",
   "execution_count": 29,
   "metadata": {},
   "outputs": [
    {
     "name": "stderr",
     "output_type": "stream",
     "text": [
      "C:\\Users\\cakra2\\AppData\\Local\\Temp\\ipykernel_26176\\1767567311.py:4: FutureWarning: The default of observed=False is deprecated and will be changed to True in a future version of pandas. Pass observed=False to retain current behavior or observed=True to adopt the future default and silence this warning.\n",
      "  seasonal_data = df.groupby(['season_daily'])[['casual_daily', 'registered_daily']].mean().reset_index()\n"
     ]
    },
    {
     "data": {
      "application/vnd.plotly.v1+json": {
       "config": {
        "plotlyServerURL": "https://plot.ly"
       },
       "data": [
        {
         "alignmentgroup": "True",
         "hovertemplate": "User Type=casual_daily<br>Musim=%{x}<br>Rata-rata Jumlah Sewa Harian=%{y}<extra></extra>",
         "legendgroup": "casual_daily",
         "marker": {
          "color": "skyblue",
          "pattern": {
           "shape": ""
          }
         },
         "name": "casual_daily",
         "offsetgroup": "casual_daily",
         "orientation": "v",
         "showlegend": true,
         "textposition": "auto",
         "type": "bar",
         "x": [
          "Fall",
          "Summer",
          "Winter",
          "Spring"
         ],
         "xaxis": "x",
         "y": [
          1204.1539145907473,
          1106.982308913586,
          735.4681001890359,
          339.5822725129656
         ],
         "yaxis": "y"
        },
        {
         "alignmentgroup": "True",
         "hovertemplate": "User Type=registered_daily<br>Musim=%{x}<br>Rata-rata Jumlah Sewa Harian=%{y}<extra></extra>",
         "legendgroup": "registered_daily",
         "marker": {
          "color": "salmon",
          "pattern": {
           "shape": ""
          }
         },
         "name": "registered_daily",
         "offsetgroup": "registered_daily",
         "orientation": "v",
         "showlegend": true,
         "textposition": "auto",
         "type": "bar",
         "x": [
          "Fall",
          "Summer",
          "Winter",
          "Spring"
         ],
         "xaxis": "x",
         "y": [
          4449.939279359431,
          3888.2708097074164,
          4029.897920604915,
          2295.7659123055164
         ],
         "yaxis": "y"
        }
       ],
       "layout": {
        "barmode": "relative",
        "legend": {
         "title": {
          "text": "User Type"
         },
         "tracegroupgap": 0
        },
        "template": {
         "data": {
          "bar": [
           {
            "error_x": {
             "color": "#2a3f5f"
            },
            "error_y": {
             "color": "#2a3f5f"
            },
            "marker": {
             "line": {
              "color": "#E5ECF6",
              "width": 0.5
             },
             "pattern": {
              "fillmode": "overlay",
              "size": 10,
              "solidity": 0.2
             }
            },
            "type": "bar"
           }
          ],
          "barpolar": [
           {
            "marker": {
             "line": {
              "color": "#E5ECF6",
              "width": 0.5
             },
             "pattern": {
              "fillmode": "overlay",
              "size": 10,
              "solidity": 0.2
             }
            },
            "type": "barpolar"
           }
          ],
          "carpet": [
           {
            "aaxis": {
             "endlinecolor": "#2a3f5f",
             "gridcolor": "white",
             "linecolor": "white",
             "minorgridcolor": "white",
             "startlinecolor": "#2a3f5f"
            },
            "baxis": {
             "endlinecolor": "#2a3f5f",
             "gridcolor": "white",
             "linecolor": "white",
             "minorgridcolor": "white",
             "startlinecolor": "#2a3f5f"
            },
            "type": "carpet"
           }
          ],
          "choropleth": [
           {
            "colorbar": {
             "outlinewidth": 0,
             "ticks": ""
            },
            "type": "choropleth"
           }
          ],
          "contour": [
           {
            "colorbar": {
             "outlinewidth": 0,
             "ticks": ""
            },
            "colorscale": [
             [
              0,
              "#0d0887"
             ],
             [
              0.1111111111111111,
              "#46039f"
             ],
             [
              0.2222222222222222,
              "#7201a8"
             ],
             [
              0.3333333333333333,
              "#9c179e"
             ],
             [
              0.4444444444444444,
              "#bd3786"
             ],
             [
              0.5555555555555556,
              "#d8576b"
             ],
             [
              0.6666666666666666,
              "#ed7953"
             ],
             [
              0.7777777777777778,
              "#fb9f3a"
             ],
             [
              0.8888888888888888,
              "#fdca26"
             ],
             [
              1,
              "#f0f921"
             ]
            ],
            "type": "contour"
           }
          ],
          "contourcarpet": [
           {
            "colorbar": {
             "outlinewidth": 0,
             "ticks": ""
            },
            "type": "contourcarpet"
           }
          ],
          "heatmap": [
           {
            "colorbar": {
             "outlinewidth": 0,
             "ticks": ""
            },
            "colorscale": [
             [
              0,
              "#0d0887"
             ],
             [
              0.1111111111111111,
              "#46039f"
             ],
             [
              0.2222222222222222,
              "#7201a8"
             ],
             [
              0.3333333333333333,
              "#9c179e"
             ],
             [
              0.4444444444444444,
              "#bd3786"
             ],
             [
              0.5555555555555556,
              "#d8576b"
             ],
             [
              0.6666666666666666,
              "#ed7953"
             ],
             [
              0.7777777777777778,
              "#fb9f3a"
             ],
             [
              0.8888888888888888,
              "#fdca26"
             ],
             [
              1,
              "#f0f921"
             ]
            ],
            "type": "heatmap"
           }
          ],
          "heatmapgl": [
           {
            "colorbar": {
             "outlinewidth": 0,
             "ticks": ""
            },
            "colorscale": [
             [
              0,
              "#0d0887"
             ],
             [
              0.1111111111111111,
              "#46039f"
             ],
             [
              0.2222222222222222,
              "#7201a8"
             ],
             [
              0.3333333333333333,
              "#9c179e"
             ],
             [
              0.4444444444444444,
              "#bd3786"
             ],
             [
              0.5555555555555556,
              "#d8576b"
             ],
             [
              0.6666666666666666,
              "#ed7953"
             ],
             [
              0.7777777777777778,
              "#fb9f3a"
             ],
             [
              0.8888888888888888,
              "#fdca26"
             ],
             [
              1,
              "#f0f921"
             ]
            ],
            "type": "heatmapgl"
           }
          ],
          "histogram": [
           {
            "marker": {
             "pattern": {
              "fillmode": "overlay",
              "size": 10,
              "solidity": 0.2
             }
            },
            "type": "histogram"
           }
          ],
          "histogram2d": [
           {
            "colorbar": {
             "outlinewidth": 0,
             "ticks": ""
            },
            "colorscale": [
             [
              0,
              "#0d0887"
             ],
             [
              0.1111111111111111,
              "#46039f"
             ],
             [
              0.2222222222222222,
              "#7201a8"
             ],
             [
              0.3333333333333333,
              "#9c179e"
             ],
             [
              0.4444444444444444,
              "#bd3786"
             ],
             [
              0.5555555555555556,
              "#d8576b"
             ],
             [
              0.6666666666666666,
              "#ed7953"
             ],
             [
              0.7777777777777778,
              "#fb9f3a"
             ],
             [
              0.8888888888888888,
              "#fdca26"
             ],
             [
              1,
              "#f0f921"
             ]
            ],
            "type": "histogram2d"
           }
          ],
          "histogram2dcontour": [
           {
            "colorbar": {
             "outlinewidth": 0,
             "ticks": ""
            },
            "colorscale": [
             [
              0,
              "#0d0887"
             ],
             [
              0.1111111111111111,
              "#46039f"
             ],
             [
              0.2222222222222222,
              "#7201a8"
             ],
             [
              0.3333333333333333,
              "#9c179e"
             ],
             [
              0.4444444444444444,
              "#bd3786"
             ],
             [
              0.5555555555555556,
              "#d8576b"
             ],
             [
              0.6666666666666666,
              "#ed7953"
             ],
             [
              0.7777777777777778,
              "#fb9f3a"
             ],
             [
              0.8888888888888888,
              "#fdca26"
             ],
             [
              1,
              "#f0f921"
             ]
            ],
            "type": "histogram2dcontour"
           }
          ],
          "mesh3d": [
           {
            "colorbar": {
             "outlinewidth": 0,
             "ticks": ""
            },
            "type": "mesh3d"
           }
          ],
          "parcoords": [
           {
            "line": {
             "colorbar": {
              "outlinewidth": 0,
              "ticks": ""
             }
            },
            "type": "parcoords"
           }
          ],
          "pie": [
           {
            "automargin": true,
            "type": "pie"
           }
          ],
          "scatter": [
           {
            "fillpattern": {
             "fillmode": "overlay",
             "size": 10,
             "solidity": 0.2
            },
            "type": "scatter"
           }
          ],
          "scatter3d": [
           {
            "line": {
             "colorbar": {
              "outlinewidth": 0,
              "ticks": ""
             }
            },
            "marker": {
             "colorbar": {
              "outlinewidth": 0,
              "ticks": ""
             }
            },
            "type": "scatter3d"
           }
          ],
          "scattercarpet": [
           {
            "marker": {
             "colorbar": {
              "outlinewidth": 0,
              "ticks": ""
             }
            },
            "type": "scattercarpet"
           }
          ],
          "scattergeo": [
           {
            "marker": {
             "colorbar": {
              "outlinewidth": 0,
              "ticks": ""
             }
            },
            "type": "scattergeo"
           }
          ],
          "scattergl": [
           {
            "marker": {
             "colorbar": {
              "outlinewidth": 0,
              "ticks": ""
             }
            },
            "type": "scattergl"
           }
          ],
          "scattermapbox": [
           {
            "marker": {
             "colorbar": {
              "outlinewidth": 0,
              "ticks": ""
             }
            },
            "type": "scattermapbox"
           }
          ],
          "scatterpolar": [
           {
            "marker": {
             "colorbar": {
              "outlinewidth": 0,
              "ticks": ""
             }
            },
            "type": "scatterpolar"
           }
          ],
          "scatterpolargl": [
           {
            "marker": {
             "colorbar": {
              "outlinewidth": 0,
              "ticks": ""
             }
            },
            "type": "scatterpolargl"
           }
          ],
          "scatterternary": [
           {
            "marker": {
             "colorbar": {
              "outlinewidth": 0,
              "ticks": ""
             }
            },
            "type": "scatterternary"
           }
          ],
          "surface": [
           {
            "colorbar": {
             "outlinewidth": 0,
             "ticks": ""
            },
            "colorscale": [
             [
              0,
              "#0d0887"
             ],
             [
              0.1111111111111111,
              "#46039f"
             ],
             [
              0.2222222222222222,
              "#7201a8"
             ],
             [
              0.3333333333333333,
              "#9c179e"
             ],
             [
              0.4444444444444444,
              "#bd3786"
             ],
             [
              0.5555555555555556,
              "#d8576b"
             ],
             [
              0.6666666666666666,
              "#ed7953"
             ],
             [
              0.7777777777777778,
              "#fb9f3a"
             ],
             [
              0.8888888888888888,
              "#fdca26"
             ],
             [
              1,
              "#f0f921"
             ]
            ],
            "type": "surface"
           }
          ],
          "table": [
           {
            "cells": {
             "fill": {
              "color": "#EBF0F8"
             },
             "line": {
              "color": "white"
             }
            },
            "header": {
             "fill": {
              "color": "#C8D4E3"
             },
             "line": {
              "color": "white"
             }
            },
            "type": "table"
           }
          ]
         },
         "layout": {
          "annotationdefaults": {
           "arrowcolor": "#2a3f5f",
           "arrowhead": 0,
           "arrowwidth": 1
          },
          "autotypenumbers": "strict",
          "coloraxis": {
           "colorbar": {
            "outlinewidth": 0,
            "ticks": ""
           }
          },
          "colorscale": {
           "diverging": [
            [
             0,
             "#8e0152"
            ],
            [
             0.1,
             "#c51b7d"
            ],
            [
             0.2,
             "#de77ae"
            ],
            [
             0.3,
             "#f1b6da"
            ],
            [
             0.4,
             "#fde0ef"
            ],
            [
             0.5,
             "#f7f7f7"
            ],
            [
             0.6,
             "#e6f5d0"
            ],
            [
             0.7,
             "#b8e186"
            ],
            [
             0.8,
             "#7fbc41"
            ],
            [
             0.9,
             "#4d9221"
            ],
            [
             1,
             "#276419"
            ]
           ],
           "sequential": [
            [
             0,
             "#0d0887"
            ],
            [
             0.1111111111111111,
             "#46039f"
            ],
            [
             0.2222222222222222,
             "#7201a8"
            ],
            [
             0.3333333333333333,
             "#9c179e"
            ],
            [
             0.4444444444444444,
             "#bd3786"
            ],
            [
             0.5555555555555556,
             "#d8576b"
            ],
            [
             0.6666666666666666,
             "#ed7953"
            ],
            [
             0.7777777777777778,
             "#fb9f3a"
            ],
            [
             0.8888888888888888,
             "#fdca26"
            ],
            [
             1,
             "#f0f921"
            ]
           ],
           "sequentialminus": [
            [
             0,
             "#0d0887"
            ],
            [
             0.1111111111111111,
             "#46039f"
            ],
            [
             0.2222222222222222,
             "#7201a8"
            ],
            [
             0.3333333333333333,
             "#9c179e"
            ],
            [
             0.4444444444444444,
             "#bd3786"
            ],
            [
             0.5555555555555556,
             "#d8576b"
            ],
            [
             0.6666666666666666,
             "#ed7953"
            ],
            [
             0.7777777777777778,
             "#fb9f3a"
            ],
            [
             0.8888888888888888,
             "#fdca26"
            ],
            [
             1,
             "#f0f921"
            ]
           ]
          },
          "colorway": [
           "#636efa",
           "#EF553B",
           "#00cc96",
           "#ab63fa",
           "#FFA15A",
           "#19d3f3",
           "#FF6692",
           "#B6E880",
           "#FF97FF",
           "#FECB52"
          ],
          "font": {
           "color": "#2a3f5f"
          },
          "geo": {
           "bgcolor": "white",
           "lakecolor": "white",
           "landcolor": "#E5ECF6",
           "showlakes": true,
           "showland": true,
           "subunitcolor": "white"
          },
          "hoverlabel": {
           "align": "left"
          },
          "hovermode": "closest",
          "mapbox": {
           "style": "light"
          },
          "paper_bgcolor": "white",
          "plot_bgcolor": "#E5ECF6",
          "polar": {
           "angularaxis": {
            "gridcolor": "white",
            "linecolor": "white",
            "ticks": ""
           },
           "bgcolor": "#E5ECF6",
           "radialaxis": {
            "gridcolor": "white",
            "linecolor": "white",
            "ticks": ""
           }
          },
          "scene": {
           "xaxis": {
            "backgroundcolor": "#E5ECF6",
            "gridcolor": "white",
            "gridwidth": 2,
            "linecolor": "white",
            "showbackground": true,
            "ticks": "",
            "zerolinecolor": "white"
           },
           "yaxis": {
            "backgroundcolor": "#E5ECF6",
            "gridcolor": "white",
            "gridwidth": 2,
            "linecolor": "white",
            "showbackground": true,
            "ticks": "",
            "zerolinecolor": "white"
           },
           "zaxis": {
            "backgroundcolor": "#E5ECF6",
            "gridcolor": "white",
            "gridwidth": 2,
            "linecolor": "white",
            "showbackground": true,
            "ticks": "",
            "zerolinecolor": "white"
           }
          },
          "shapedefaults": {
           "line": {
            "color": "#2a3f5f"
           }
          },
          "ternary": {
           "aaxis": {
            "gridcolor": "white",
            "linecolor": "white",
            "ticks": ""
           },
           "baxis": {
            "gridcolor": "white",
            "linecolor": "white",
            "ticks": ""
           },
           "bgcolor": "#E5ECF6",
           "caxis": {
            "gridcolor": "white",
            "linecolor": "white",
            "ticks": ""
           }
          },
          "title": {
           "x": 0.05
          },
          "xaxis": {
           "automargin": true,
           "gridcolor": "white",
           "linecolor": "white",
           "ticks": "",
           "title": {
            "standoff": 15
           },
           "zerolinecolor": "white",
           "zerolinewidth": 2
          },
          "yaxis": {
           "automargin": true,
           "gridcolor": "white",
           "linecolor": "white",
           "ticks": "",
           "title": {
            "standoff": 15
           },
           "zerolinecolor": "white",
           "zerolinewidth": 2
          }
         }
        },
        "title": {
         "text": "Jumlah Rata-rata Sewa Harian berdasarkan Musim"
        },
        "xaxis": {
         "anchor": "y",
         "domain": [
          0,
          1
         ],
         "title": {
          "text": "Musim"
         }
        },
        "yaxis": {
         "anchor": "x",
         "domain": [
          0,
          1
         ],
         "title": {
          "text": "Rata-rata Jumlah Sewa Harian"
         }
        }
       }
      }
     },
     "metadata": {},
     "output_type": "display_data"
    }
   ],
   "source": [
    "import plotly.express as px\n",
    "\n",
    "# Group by daily season and calculate the mean for casual and registered users\n",
    "seasonal_data = df.groupby(['season_daily'])[['casual_daily', 'registered_daily']].mean().reset_index()\n",
    "\n",
    "# Memberi nama musim\n",
    "seasonal_data['season_name'] = ['Spring', 'Summer', 'Fall', 'Winter']\n",
    "\n",
    "# Mengurutkan data berdasarkan jumlah sewa harian\n",
    "seasonal_data = seasonal_data.sort_values(by='casual_daily', ascending=False)\n",
    "\n",
    "# Plot using Plotly Express\n",
    "fig = px.bar(seasonal_data, x='season_name', y=['casual_daily', 'registered_daily'],\n",
    "             title='Jumlah Rata-rata Sewa Harian berdasarkan Musim',\n",
    "             labels={'value': 'Rata-rata Jumlah Sewa Harian', 'variable': 'User Type', 'season_name': 'Musim'},\n",
    "             color_discrete_sequence=['skyblue', 'salmon'])\n",
    "\n",
    "# Display the Plotly Express plot\n",
    "fig.show()\n"
   ]
  },
  {
   "cell_type": "markdown",
   "metadata": {},
   "source": [
    "### Pertanyaan 2. Bagaimana pola aktivitas penyewaan sepeda berubah dalam satu hari"
   ]
  },
  {
   "cell_type": "code",
   "execution_count": 30,
   "metadata": {},
   "outputs": [
    {
     "data": {
      "image/png": "[encoded data removed]",
      "text/plain": [
       "<Figure size 1200x600 with 1 Axes>"
      ]
     },
     "metadata": {},
     "output_type": "display_data"
    }
   ],
   "source": [
    "hourly_counts = df.groupby('hr')['casual_hourly'].mean()\n",
    "\n",
    "plt.figure(figsize=(12, 6))\n",
    "sns.barplot(x=hourly_counts.index, y=hourly_counts.values, color='midnightblue')\n",
    "plt.title('Distribusi Penyewaan Sepeda berdasarkan Jam dalam Sehari (Casual Users)')\n",
    "plt.xlabel('Waktu Penyewaan')\n",
    "plt.ylabel('Jumlah Penyewaan')\n",
    "plt.show()\n",
    "     "
   ]
  },
  {
   "cell_type": "code",
   "execution_count": 31,
   "metadata": {},
   "outputs": [
    {
     "data": {
      "image/png": "[encoded data removed]",
      "text/plain": [
       "<Figure size 1200x600 with 1 Axes>"
      ]
     },
     "metadata": {},
     "output_type": "display_data"
    }
   ],
   "source": [
    "hourly_counts_registered = df.groupby('hr')['registered_hourly'].mean()\n",
    "\n",
    "plt.figure(figsize=(12, 6))\n",
    "\n",
    "# Plotting both casual and registered users\n",
    "sns.barplot(x=hourly_counts_registered.index, y=hourly_counts_registered.values, color='salmon', label='Registered Users')\n",
    "\n",
    "plt.title('Distribusi Penyewaan Sepeda berdasarkan Jam dalam Sehari(Registered)')\n",
    "plt.xlabel('Waktu Penyewaan')\n",
    "plt.ylabel('Jumlah Penyewaan')\n",
    "plt.legend()\n",
    "\n",
    "plt.show()"
   ]
  },
  {
   "cell_type": "code",
   "execution_count": 32,
   "metadata": {},
   "outputs": [
    {
     "data": {
      "text/plain": [
       "<Figure size 1200x600 with 0 Axes>"
      ]
     },
     "metadata": {},
     "output_type": "display_data"
    },
    {
     "data": {
      "image/png": "[encoded data removed]",
      "text/plain": [
       "<Figure size 1200x600 with 1 Axes>"
      ]
     },
     "metadata": {},
     "output_type": "display_data"
    }
   ],
   "source": [
    "hourly_counts= df.groupby('hr')['cnt_hourly'].mean()\n",
    "\n",
    "plt.figure(figsize=(12, 6))\n",
    "\n",
    "plt.figure(figsize=(12, 6))\n",
    "sns.barplot(x=hourly_counts.index, y=hourly_counts.values, color='darkgreen')\n",
    "plt.title('Distribusi Penyewaan Sepeda berdasarkan Jam dalam Sehari (count)')\n",
    "plt.xlabel('Waktu Penyewaan')\n",
    "plt.ylabel('Jumlah Penyewaan')\n",
    "plt.show()"
   ]
  },
  {
   "cell_type": "markdown",
   "metadata": {},
   "source": [
    "### Pertanyaan 3. Seberapa besar perbedaan penggunaan sepeda antara hari libur dan hari kerja"
   ]
  },
  {
   "cell_type": "code",
   "execution_count": 33,
   "metadata": {},
   "outputs": [
    {
     "name": "stderr",
     "output_type": "stream",
     "text": [
      "C:\\Users\\cakra2\\AppData\\Local\\Temp\\ipykernel_26176\\1966826234.py:4: FutureWarning:\n",
      "\n",
      "\n",
      "\n",
      "The `ci` parameter is deprecated. Use `errorbar=None` for the same effect.\n",
      "\n",
      "\n",
      "C:\\Users\\cakra2\\AppData\\Local\\Temp\\ipykernel_26176\\1966826234.py:4: FutureWarning:\n",
      "\n",
      "\n",
      "\n",
      "Passing `palette` without assigning `hue` is deprecated and will be removed in v0.14.0. Assign the `x` variable to `hue` and set `legend=False` for the same effect.\n",
      "\n",
      "\n"
     ]
    },
    {
     "data": {
      "image/png": "[encoded data removed]",
      "text/plain": [
       "<Figure size 1000x600 with 1 Axes>"
      ]
     },
     "metadata": {},
     "output_type": "display_data"
    }
   ],
   "source": [
    "plt.figure(figsize=(10, 6))\n",
    "\n",
    "# Buat barplot dengan warna yang diinginkan, misalnya 'skyblue' dan 'salmon'\n",
    "sns.barplot(x=\"workingday_daily\", y=\"cnt_daily\", data=df, ci=None, palette=['skyblue', 'salmon'])\n",
    "\n",
    "# Tambahkan label pada sumbu y dan judul plot\n",
    "plt.xlabel(\"Hari\")\n",
    "plt.ylabel(\"Jumlah Sewa Sepeda Harian\")\n",
    "plt.title(\"Perbandingan Penggunaan Sepeda per hari antara Hari Kerja dan Hari Libur\")\n",
    "\n",
    "# Ganti label pada sumbu x\n",
    "plt.xticks([0, 1], ['Hari Libur', 'Hari Kerja'])\n",
    "\n",
    "# Tampilkan plot\n",
    "plt.show()"
   ]
  },
  {
   "cell_type": "markdown",
   "metadata": {},
   "source": [
    "# Conclusions"
   ]
  },
  {
   "cell_type": "markdown",
   "metadata": {},
   "source": [
    "### Pertanyaan 1. Bagaimana pengaruh Cuaca terhadap Aktivitas Penyewaan Berdasarkan pengguna Casual Dan Registered?\n",
    "\n",
    "1. Musim Gugur (Fall):\n",
    "  - Pengguna casual paling banyak menyewa sepeda pada musim gugur, sementara pengguna terdaftar juga memiliki tingkat penyewaan yang tinggi pada musim ini.\n",
    "  - Cuaca yang nyaman dan kondisi lingkungan yang indah mungkin menjadi faktor pengaruh pada peningkatan tingkat penyewaan.\n",
    "\n",
    "2. Musim Panas (Summer): \n",
    "  - Meskipun terjadi penurunan dibandingkan dengan musim gugur, musim panas tetap menjadi salah satu musim dengan tingkat penyewaan tertinggi bagi pengguna casual dan relatif tinggi bagi pengguna terdaftar.\n",
    "\n",
    "3. Musim Dingin (Winter): \n",
    "  - Kedua kelompok pengguna mengalami penurunan tajam selama musim dingin. Kondisi cuaca yang kurang mendukung dan preferensi untuk aktivitas indoor mungkin menjadi penyebabnya.\n",
    "\n",
    "4. Musim Semi (Spring): \n",
    "  - Musim semi memiliki tingkat penyewaan yang moderat, dengan kecenderungan lebih rendah dibandingkan musim gugur dan panas untuk kedua kelompok pengguna.\n",
    "\n",
    "5. Pengguna Casual vs. Pengguna Terdaftar: \n",
    "\n",
    "- Pengguna casual cenderung memiliki tingkat penyewaan yang lebih tinggi dibandingkan pengguna terdaftar pada musim gugur.\n",
    "- Pengguna terdaftar cenderung memiliki tingkat penyewaan yang lebih tinggi selama musim panas dibandingkan dengan pengguna casual.\n",
    "- Kedua kelompok mengalami penurunan yang serupa selama musim dingin.\n",
    "- Pada musim semi, pola tingkat penyewaan relatif serupa antara kedua kelompok pengguna."
   ]
  },
  {
   "cell_type": "markdown",
   "metadata": {},
   "source": [
    "### Pertanyaan 2. Bagaimana pola aktivitas penyewaan sepeda berubah dalam satu hari\n",
    "\n",
    "1. Pola Umum Aktivitas Penyewaan Harian:\n",
    "\n",
    "- Pengguna casual cenderung menyewa sepeda pada rentang waktu sore hingga malam, menunjukkan preferensi untuk kegiatan rekreasi di luar jam kerja.\n",
    "\n",
    "- Pengguna terdaftar menunjukkan pola yang berbeda, dengan puncak aktivitas pada pagi hari dan sore hingga malam. Ini mungkin mencerminkan penggunaan sepeda untuk keperluan komutasi atau pekerjaan.\n",
    "\n",
    "2. Perbedaan Aktivitas Pengguna Casual dan Terdaftar:\n",
    "\n",
    "- Aktivitas penyewaan sepeda casual cenderung terjadi pada sore hingga malam, menunjukkan potensi untuk kegiatan rekreasi atau penggunaan non-rutin.\n",
    "\n",
    "- Pengguna terdaftar menunjukkan aktivitas yang lebih merata sepanjang hari, menunjukkan penggunaan sepeda sebagai sarana transportasi harian.\n",
    "\n",
    "3. Aktivitas Penyewaan Sepeda Secara Keseluruhan:\n",
    "\n",
    "- Jumlah penyewaan sepeda mencapai puncaknya pada sore hingga malam, mencerminkan gabungan pola casual dan registered users.\n",
    "- Aktivitas ini dapat dijadikan fokus untuk peningkatan layanan atau penawaran khusus pada jam-jam tersebut."
   ]
  },
  {
   "cell_type": "markdown",
   "metadata": {},
   "source": [
    "### Pertanyaan 3. Seberapa besar perbedaan penggunaan sepeda antara hari libur dan hari kerja\n",
    "\n",
    "1. Perbandingan Jumlah Sewa Sepeda:\n",
    "\n",
    "- Jumlah penyewaan sepeda pada hari kerja (1) lebih tinggi dibandingkan dengan hari libur (0), menunjukkan tingkat aktivitas yang lebih tinggi selama hari kerja.  \n",
    "\n",
    "2. Pengaruh Hari Kerja pada Penggunaan Sepeda:\n",
    "\n",
    "- Grafik menunjukkan bahwa hari kerja memiliki dampak positif terhadap penggunaan sepeda, dengan jumlah sewa sepeda harian yang lebih tinggi dibandingkan hari libur.\n",
    "- Potensi penyewaan sepeda pada hari kerja mungkin disebabkan oleh kebutuhan komutasi dan aktivitas harian."
   ]
  },
  {
   "cell_type": "markdown",
   "metadata": {},
   "source": [
    "# Kesimpulan Umum"
   ]
  },
  {
   "cell_type": "markdown",
   "metadata": {},
   "source": [
    "Kesimpulan Umum:\n",
    "\n",
    "1. Pengaruh Cuaca Terhadap Aktivitas Penyewaan:\n",
    "\n",
    "- Musim gugur menjadi musim dengan tingkat penyewaan tertinggi untuk kedua kelompok pengguna (casual dan terdaftar). Cuaca yang nyaman dan kondisi lingkungan yang indah mungkin menjadi faktor peningkatan aktivitas penyewaan.\n",
    "- Musim panas tetap menjadi salah satu musim dengan tingkat penyewaan tinggi, meskipun terjadi penurunan.\n",
    "- Penurunan tajam terjadi selama musim dingin, yang dapat diatributkan pada kondisi cuaca yang kurang mendukung dan preferensi untuk aktivitas indoor.\n",
    "- Musim semi menunjukkan tingkat penyewaan yang moderat, namun lebih rendah dibandingkan musim gugur dan panas.\n",
    "\n",
    "2. Pola Aktivitas Penyewaan Sepeda Harian:\n",
    "\n",
    "- Aktivitas penyewaan sepeda harian (casual users) memiliki puncak pada sore hingga malam, menandakan potensi penggunaan sepeda untuk kegiatan rekreasi atau non-rutin.\n",
    "- Aktivitas penyewaan sepeda terdaftar (registered users) lebih merata sepanjang hari, menunjukkan kecenderungan penggunaan sepeda untuk keperluan harian atau komutasi.\n",
    "- Jumlah penyewaan secara keseluruhan menunjukkan puncak aktivitas pada sore hingga malam.\n",
    "\n",
    "3. Perbedaan Penggunaan Sepeda antara Hari Kerja dan Hari Libur:\n",
    "\n",
    "- Jumlah penyewaan sepeda lebih tinggi pada hari kerja dibandingkan dengan hari libur.\n",
    "- Hari kerja memiliki dampak positif terhadap penggunaan sepeda, dan potensi penyewaan lebih tinggi pada hari-hari kerja mungkin terkait dengan kebutuhan komutasi.\n",
    "\n",
    "Rekomendasi:\n",
    "\n",
    "- Pada musim gugur, perlu dilakukan promosi atau penawaran khusus untuk meningkatkan partisipasi pengguna casual.\n",
    "- Pada musim panas, dapat dipertimbangkan peningkatan kapasitas sepeda atau fasilitas untuk mengakomodasi lonjakan permintaan.\n",
    "- Selama musim dingin, strategi pemasaran dapat difokuskan pada aktivitas indoor atau alternatif lainnya untuk tetap mempertahankan minat pengguna.\n",
    "- Pada hari-hari kerja, peningkatan fasilitas komutasi seperti penyediaan parkir sepeda dapat meningkatkan partisipasi pengguna terdaftar."
   ]
  }
 ],
 "metadata": {
  "kernelspec": {
   "display_name": "Python 3",
   "language": "python",
   "name": "python3"
  },
  "language_info": {
   "codemirror_mode": {
    "name": "ipython",
    "version": 3
   },
   "file_extension": ".py",
   "mimetype": "text/x-python",
   "name": "python",
   "nbconvert_exporter": "python",
   "pygments_lexer": "ipython3",
   "version": "3.12.1"
  }
 },
 "nbformat": 4,
 "nbformat_minor": 2
}
